{
  "nbformat": 4,
  "nbformat_minor": 0,
  "metadata": {
    "colab": {
      "provenance": [],
      "authorship_tag": "ABX9TyP2uJKFHdDqtqwdcYu2WcpU",
      "include_colab_link": true
    },
    "kernelspec": {
      "name": "python3",
      "display_name": "Python 3"
    },
    "language_info": {
      "name": "python"
    }
  },
  "cells": [
    {
      "cell_type": "markdown",
      "metadata": {
        "id": "view-in-github",
        "colab_type": "text"
      },
      "source": [
        "<a href=\"https://colab.research.google.com/github/NaydelinAidee/Simulaci-nI/blob/main/Chi.ipynb\" target=\"_parent\"><img src=\"https://colab.research.google.com/assets/colab-badge.svg\" alt=\"Open In Colab\"/></a>"
      ]
    },
    {
      "cell_type": "markdown",
      "source": [
        "# PRUEBA CHI-CUADRADA"
      ],
      "metadata": {
        "id": "6Jlds4iaPSaK"
      }
    },
    {
      "cell_type": "markdown",
      "source": [
        "NAYDELIN AIDEE CARCAMO HERNANDEZ"
      ],
      "metadata": {
        "id": "bHCl8lQhPiz-"
      }
    },
    {
      "cell_type": "markdown",
      "source": [
        "La prueba de chi-cuadrado es una prueba estadística que se puede usar para determinar si una serie de números aleatorios se ajustan a un modelo teórico.\n",
        "\n",
        "**¿Cómo funciona?**\n",
        "\n",
        "Compara los valores observados con los valores esperados.\n",
        "Determina si la diferencia entre los datos observados y los esperados se debe al azar o a una relación entre las variables.\n",
        "\n",
        "PASOS:\n",
        "\n",
        "1.-Agrupar los n numeros aleatorios en k clases disjuntas de igual amplitud\n",
        "\n",
        "2.-Hallar la frecuencia de cada clase fi\n",
        "\n",
        "3.-Calcular el estadistico para n suficientemente grande\n",
        "\n",
        "4.- determinar el valor critico de las tablas para el nivel de confianza (1-alpha) y (k-1) grados de libertad para ver si se rechaza o no."
      ],
      "metadata": {
        "id": "4AGcrsmpPp8l"
      }
    },
    {
      "cell_type": "markdown",
      "source": [
        "\n",
        "\n",
        "---\n",
        "\n"
      ],
      "metadata": {
        "id": "8tDfRxSFQ_x6"
      }
    },
    {
      "cell_type": "markdown",
      "source": [
        "veamos este codigo que implementa este algoritmo"
      ],
      "metadata": {
        "id": "HRaSzE49RG7W"
      }
    },
    {
      "cell_type": "code",
      "execution_count": 10,
      "metadata": {
        "id": "wXIgG-Xgl1s6",
        "colab": {
          "base_uri": "https://localhost:8080/"
        },
        "outputId": "c8ea902c-83f5-4fc5-b2ff-70a0015d7b85"
      },
      "outputs": [
        {
          "output_type": "stream",
          "name": "stdout",
          "text": [
            "\n",
            "Tabla de Frecuencias Chi-Cuadrado:\n",
            "\n",
            "+-----------------+-----------------+-----------------+\n",
            "|   Intervalo     |  Fo (Observada) |  Fe (Esperada)  |\n",
            "+-----------------+-----------------+-----------------+\n",
            "| [0.00, 0.20] |        7         |       5.00      |\n",
            "| [0.20, 0.40] |        3         |       5.00      |\n",
            "| [0.40, 0.60] |        9         |       5.00      |\n",
            "| [0.60, 0.80] |        3         |       5.00      |\n",
            "| [0.80, 1.00] |        3         |       5.00      |\n",
            "+-----------------+-----------------+-----------------+\n",
            "\n",
            "Estadística de Chi-Cuadrado: 6.4000\n",
            "Grados de libertad: 4\n",
            "Valor p: 0.1712\n",
            "Valor crítico de chi-cuadrado (α=0.05, df=4): 9.4877\n",
            "\n",
            "No se rechaza la hipótesis nula: los números parecen provenir de una distribución uniforme.\n"
          ]
        }
      ],
      "source": [
        "import numpy as np  # Importa la biblioteca para cálculos numéricos\n",
        "import scipy.stats as stats  # Importa scipy para cálculos estadísticos\n",
        "def chi_square_test(muestra1, num_intervals=5):\n",
        "    n = len(muestra1)  # Número total de valores en la muestra\n",
        "    expected_count = n / num_intervals  # Frecuencia esperada en cada intervalo\n",
        "    bin_edges = np.linspace(0, 1, num_intervals + 1)# Definir los límites de los intervalos manualmente dividiendo el rango [0,1] en partes iguales\n",
        "    observed_counts = [0] * num_intervals  # Inicializar las frecuencias observadas en cada intervalo\n",
        "    for value in muestra1:# Contar la cantidad de valores en cada intervalo\n",
        "        for i in range(num_intervals):\n",
        "            if bin_edges[i] <= value < bin_edges[i + 1]:  # Verificar en qué intervalo cae el valor\n",
        "                observed_counts[i] += 1  # Incrementar la frecuencia del intervalo correspondiente\n",
        "                break  # Salir del bucle una vez encontrado el intervalo adecuado\n",
        "    chi_square_stat = sum((observed_counts[i] - expected_count) ** 2 / expected_count for i in range(num_intervals))# Calcular la estadística de chi-cuadrado con la fórmula: sum((O - E)^2 / E)\n",
        "    # Grado de libertad = número de intervalos - 1\n",
        "    df = num_intervals - 1\n",
        "    # Obtener el valor p basado en la distribución chi-cuadrado\n",
        "    p_value = 1 - stats.chi2.cdf(chi_square_stat, df)\n",
        "    # Crear tabla de resultados con los intervalos\n",
        "    print(\"\\nTabla de Frecuencias Chi-Cuadrado:\\n\")\n",
        "    print(\"+-----------------+-----------------+-----------------+\")\n",
        "    print(\"|   Intervalo     |  Fo (Observada) |  Fe (Esperada)  |\")\n",
        "    print(\"+-----------------+-----------------+-----------------+\")\n",
        "    for i in range(num_intervals):\n",
        "        print(f\"| [{bin_edges[i]:.2f}, {bin_edges[i+1]:.2f}] |        {observed_counts[i]:<5}     |       {expected_count:.2f}      |\")\n",
        "    print(\"+-----------------+-----------------+-----------------+\")\n",
        "\n",
        "    # Mostrar resultados del test\n",
        "    print(f\"\\nEstadística de Chi-Cuadrado: {chi_square_stat:.4f}\")  # Mostrar el valor de Chi-Cuadrado\n",
        "    print(f\"Grados de libertad: {df}\")  # Mostrar los grados de libertad\n",
        "    print(f\"Valor p: {p_value:.4f}\")  # Mostrar el valor p\n",
        "\n",
        "    # Valor crítico de chi-cuadrado para alfa = 0.05\n",
        "    chi_critical = stats.chi2.ppf(0.95, df)\n",
        "    print(f\"Valor crítico de chi-cuadrado (α=0.05, df={df}): {chi_critical:.4f}\")\n",
        "\n",
        "    # Interpretación del resultado\n",
        "    if chi_square_stat < chi_critical:\n",
        "        print(\"\\nNo se rechaza la hipótesis nula: los números parecen provenir de una distribución uniforme.\")\n",
        "    else:\n",
        "        print(\"\\nSe rechaza la hipótesis nula: los números no parecen seguir una distribución uniforme.\")\n",
        "\n",
        "# Muestra de datos proporcionada\n",
        "muestra1 = [0.048, 0.591, 0.478, 0.166, 0.932, 0.926, 0.007, 0.551, 0.362,\n",
        "            0.533, 0.368, 0.437, 0.178, 0.411, 0.545, 0.787, 0.594, 0.086,\n",
        "            0.951, 0.772, 0.298, 0.199, 0.157, 0.401, 0.631]\n",
        "\n",
        "# Ejecutar la prueba de Chi-Cuadrado con la muestra proporcionada\n",
        "chi_square_test(muestra1)"
      ]
    },
    {
      "cell_type": "markdown",
      "source": [
        "Aqui importamos las librerias necesarias,numpy para calculos y spicy para los datos estadisticos.\n",
        "\n",
        "tambien definimos nuestra funcion chi donde tedremos los datos necesarios para a prueba."
      ],
      "metadata": {
        "id": "pduQNG-cRRO9"
      }
    },
    {
      "cell_type": "code",
      "source": [
        "import numpy as np  # Importa la biblioteca para cálculos numéricos\n",
        "import scipy.stats as stats  # Importa scipy para cálculos estadísticos\n",
        "def chi_square_test(muestra1, num_intervals=5):\n",
        "    n = len(muestra1)  # Número total de valores en la muestra\n",
        "    expected_count = n / num_intervals  # Frecuencia esperada en cada intervalo\n",
        "    bin_edges = np.linspace(0, 1, num_intervals + 1)# Definir los límites de los intervalos manualmente dividiendo el rango [0,1] en partes iguales\n",
        "    observed_counts = [0] * num_intervals  # Inicializar las frecuencias observadas en cada intervalo"
      ],
      "metadata": {
        "id": "rKeb8ugfRRsM"
      },
      "execution_count": null,
      "outputs": []
    },
    {
      "cell_type": "markdown",
      "source": [
        "Aqui iniciamos los contadores que van contando la cantidad de valores eb cada intervalo y ademas verifican en que intervao cael el valor y va incrementando la frecuencia de cada intervalo y por ultimo  calcula la estadística de chi-cuadrado con la fórmula: sum((O - E)^2 / E)"
      ],
      "metadata": {
        "id": "IN26QLAtRyfZ"
      }
    },
    {
      "cell_type": "code",
      "source": [
        "\n",
        "    for value in muestra1:# Contar la cantidad de valores en cada intervalo\n",
        "        for i in range(num_intervals):\n",
        "            if bin_edges[i] <= value < bin_edges[i + 1]:  # Verificar en qué intervalo cae el valor\n",
        "                observed_counts[i] += 1  # Incrementar la frecuencia del intervalo correspondiente\n",
        "                break  # Salir del bucle una vez encontrado el intervalo adecuado\n",
        "    chi_square_stat = sum((observed_counts[i] - expected_count) ** 2 / expected_count for i in range(num_intervals))# Calcular la estadística de chi-cuadrado con la fórmula: sum((O - E)^2 / E)\n",
        ""
      ],
      "metadata": {
        "id": "T-iOOt4wRyu9"
      },
      "execution_count": null,
      "outputs": []
    },
    {
      "cell_type": "markdown",
      "source": [
        "Obtenemos los grados de libertad"
      ],
      "metadata": {
        "id": "_LY6n1bsSfjp"
      }
    },
    {
      "cell_type": "code",
      "source": [
        "# Grado de libertad = número de intervalos - 1\n",
        "    df = num_intervals - 1"
      ],
      "metadata": {
        "id": "W0kaNEOYSfzW"
      },
      "execution_count": null,
      "outputs": []
    },
    {
      "cell_type": "markdown",
      "source": [
        "Obtenemos el valor de p"
      ],
      "metadata": {
        "id": "nrAdjhZeTSjK"
      }
    },
    {
      "cell_type": "code",
      "source": [
        "\n",
        "    # Obtener el valor p basado en la distribución chi-cuadrado\n",
        "    p_value = 1 - stats.chi2.cdf(chi_square_stat, df)\n",
        ""
      ],
      "metadata": {
        "id": "Ha_JTWgKTSzj"
      },
      "execution_count": null,
      "outputs": []
    },
    {
      "cell_type": "markdown",
      "source": [
        "Tabulamos nuestros datos y le damos formato a la tabla"
      ],
      "metadata": {
        "id": "mnCCk_zwTb7X"
      }
    },
    {
      "cell_type": "code",
      "source": [
        "    # Crear tabla de resultados con los intervalos\n",
        "    print(\"\\nTabla de Frecuencias Chi-Cuadrado:\\n\")\n",
        "    print(\"+-----------------+-----------------+-----------------+\")\n",
        "    print(\"|   Intervalo     |  Fo (Observada) |  Fe (Esperada)  |\")\n",
        "    print(\"+-----------------+-----------------+-----------------+\")\n",
        "    for i in range(num_intervals):\n",
        "        print(f\"| [{bin_edges[i]:.2f}, {bin_edges[i+1]:.2f}] |        {observed_counts[i]:<5}     |       {expected_count:.2f}      |\")\n",
        "    print(\"+-----------------+-----------------+-----------------+\")"
      ],
      "metadata": {
        "id": "AuKJCALTTcH6"
      },
      "execution_count": null,
      "outputs": []
    },
    {
      "cell_type": "markdown",
      "source": [
        "Imprimimos los resultados que deseamos"
      ],
      "metadata": {
        "id": "_UtEKm84UM0A"
      }
    },
    {
      "cell_type": "code",
      "source": [
        "\n",
        "    # Mostrar resultados del test\n",
        "    print(f\"\\nEstadística de Chi-Cuadrado: {chi_square_stat:.4f}\")  # Mostrar el valor de Chi-Cuadrado\n",
        "    print(f\"Grados de libertad: {df}\")  # Mostrar los grados de libertad\n",
        "    print(f\"Valor p: {p_value:.4f}\")  # Mostrar el valor p"
      ],
      "metadata": {
        "id": "GI6xC1GRUNWZ"
      },
      "execution_count": null,
      "outputs": []
    },
    {
      "cell_type": "markdown",
      "source": [
        "Calculamos el valor critco"
      ],
      "metadata": {
        "id": "0XS17221UWRv"
      }
    },
    {
      "cell_type": "code",
      "source": [
        "\n",
        "    # Valor crítico de chi-cuadrado para alfa = 0.05\n",
        "    chi_critical = stats.chi2.ppf(0.95, df)\n",
        "    print(f\"Valor crítico de chi-cuadrado (α=0.05, df={df}): {chi_critical:.4f}\")"
      ],
      "metadata": {
        "id": "o_Nvs2WBUWgP"
      },
      "execution_count": null,
      "outputs": []
    },
    {
      "cell_type": "markdown",
      "source": [
        "Usamos un condicional para ver si rechaza o acepta la hipotesis"
      ],
      "metadata": {
        "id": "S8nfRI2jUdCm"
      }
    },
    {
      "cell_type": "code",
      "source": [
        "\n",
        "    # Interpretación del resultado\n",
        "    if chi_square_stat < chi_critical:\n",
        "        print(\"\\nNo se rechaza la hipótesis nula: los números parecen provenir de una distribución uniforme.\")\n",
        "    else:\n",
        "        print(\"\\nSe rechaza la hipótesis nula: los números no parecen seguir una distribución uniforme.\")\n"
      ],
      "metadata": {
        "id": "NaUFhrGqUdLF"
      },
      "execution_count": null,
      "outputs": []
    }
  ]
}