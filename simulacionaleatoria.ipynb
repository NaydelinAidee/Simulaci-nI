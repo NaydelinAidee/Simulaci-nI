{
  "nbformat": 4,
  "nbformat_minor": 0,
  "metadata": {
    "colab": {
      "provenance": [],
      "authorship_tag": "ABX9TyOoNxYGnUKc+19T1yHsPYcq",
      "include_colab_link": true
    },
    "kernelspec": {
      "name": "python3",
      "display_name": "Python 3"
    },
    "language_info": {
      "name": "python"
    }
  },
  "cells": [
    {
      "cell_type": "markdown",
      "metadata": {
        "id": "view-in-github",
        "colab_type": "text"
      },
      "source": [
        "<a href=\"https://colab.research.google.com/github/NaydelinAidee/Simulaci-nI/blob/main/simulacionaleatoria.ipynb\" target=\"_parent\"><img src=\"https://colab.research.google.com/assets/colab-badge.svg\" alt=\"Open In Colab\"/></a>"
      ]
    },
    {
      "cell_type": "markdown",
      "source": [
        "# **GENERADOR CONGRUENCIAL**\n",
        "*---NAYDELIN AIDEE CARCAMO HERNANDEZ---*"
      ],
      "metadata": {
        "id": "XSpM6zcAc6hj"
      }
    },
    {
      "cell_type": "markdown",
      "source": [
        "Los **numeros aleatorios** son aquellosque pueden ser generados a partir de fuentes de aleatoriedad,las cuaes son de naturaleza fisica (dados,ruletas,mecanismos electronicos o mecanicos) y son gobernados por las leyes de azar;exotos muestan aleatoriedad en la realizacion de experimentos;asi mismo son aquellos que tienen un comportamiento similar al la naturaleza aleatoria pero rigen un patron generalmente de naturaleza matematica que hace que su comportaiento sea deterinistico.\n",
        "\n",
        "\n",
        "Ahora veamos que **Los generadores de numeros aleatorios** son procedimientos que se utilizan para generar una secuencia de numeros de forma aleatoria.Para ellos se disponen de algoritmos (dependiendo del lenguaje de progrtamacion) de manera que el usuario pueda utilizar estos programas."
      ],
      "metadata": {
        "id": "ZGQ_dtkTmRfg"
      }
    },
    {
      "cell_type": "markdown",
      "source": [
        "NOTA:Se creo este código que implementa el generador congruencial e indica el ciclo de vida para las constantes elegidas.\n",
        "Primero se explicara paso a paso y despues se visualzara el codigo completo.\n"
      ],
      "metadata": {
        "id": "JqqSP7a5eXMr"
      }
    },
    {
      "cell_type": "markdown",
      "source": [
        "Aqui se inicia llamado a las librerias que se van a ocupar para el codigo.\n",
        "tabulate:Permite generar tablas en formato legible."
      ],
      "metadata": {
        "id": "jiJj2ECtq0XQ"
      }
    },
    {
      "cell_type": "code",
      "source": [
        "from tabulate import tabulate  # PARA LA TABLA"
      ],
      "metadata": {
        "id": "cFzTpVGRqypv"
      },
      "execution_count": null,
      "outputs": []
    },
    {
      "cell_type": "markdown",
      "source": [
        "Aqui iniciamos creando las variables que vamos a necesitar,estas variables les podemos asignar diferntes valores para diferentes ejercicios,tomando en cuenta las condicines para cada una de ellas.\n",
        "\n",
        "a: Multiplicador (valor fijo que se utiliza en la fórmula).\n",
        "\n",
        "c: Incremento (otro valor fijo para la fórmula).\n",
        "\n",
        "m: Módulo (el valor con el cual se hace el módulo).\n",
        "\n",
        "x0: Semilla (el valor inicial desde donde comenzará la generación de números).\n",
        "\n",
        "iteraciones: El número de valores que se quieren generar.\n",
        "\n",
        "\n"
      ],
      "metadata": {
        "id": "5FQixwMerddb"
      }
    },
    {
      "cell_type": "code",
      "source": [
        "# Multiplicador\n",
        "a = 21\n",
        "# Incremento\n",
        "c = 15\n",
        "# Módulo\n",
        "m = 31\n",
        "# Semilla\n",
        "x0 = 21\n",
        "iteraciones = 31  # Número de iteraciones a generar (puedes cambiarlo)"
      ],
      "metadata": {
        "id": "8IYgZdKrrfQo"
      },
      "execution_count": 2,
      "outputs": []
    },
    {
      "cell_type": "markdown",
      "source": [
        "Se crean variables:\n",
        "\n",
        "-lista:  almacena los valores generados.\n",
        "\n",
        "-ciclo_detectado: Se marca como False alincio, y se usará para detectar si se forma un ciclo en los valores generados.\n",
        "\n",
        "-valores_generados: (set) para almacenar los números generados hasta el momento, con el fin de detectar repeticiones y ciclos.\n",
        "\n",
        "-ciclo_inicio y ciclo_final: Variables para identificar el punto en el que comienza y termina un ciclo (si existe).\n"
      ],
      "metadata": {
        "id": "27JIwZFYsIE0"
      }
    },
    {
      "cell_type": "code",
      "source": [
        "lista = []  # Lista que almacena los valores generados\n",
        "ciclo_detectado = False\n",
        "valores_generados = set()  # Para detectar repeticiones y ciclos\n",
        "# Ciclo de vida (cuando se repite un valor, se detecta el ciclo)\n",
        "ciclo_inicio = None #definiremos la variable donde inicia el ciclo y no le asignaremos ningun valor\n",
        "ciclo_final = None  #definiremos la variable donde finaliza el ciclo y no le asignaremos ningun valor"
      ],
      "metadata": {
        "id": "4qkjV206sSdu"
      },
      "execution_count": null,
      "outputs": []
    },
    {
      "cell_type": "markdown",
      "source": [
        "La función generador implementa la fórmula del generador lineal congruencia:"
      ],
      "metadata": {
        "id": "xEjnUeMRuv8X"
      }
    },
    {
      "cell_type": "code",
      "source": [
        "def generador(a, c, m, x):\n",
        "    return (a * x + c) % m  # Fórmula dada en clase % es el módulo"
      ],
      "metadata": {
        "id": "in7kySKcu5Z6"
      },
      "execution_count": null,
      "outputs": []
    },
    {
      "cell_type": "markdown",
      "source": [
        "Se hace un ciclo for  genera los números pseudoaleatorios y guardar la información en la lista:\n",
        "\n",
        "1.-Llama a la función generador() para obtener el siguiente número.\n",
        "\n",
        "2.-Guarda el índice de la iteración, el valor anterior y el valor normalizado.\n",
        "\n",
        "3.-Detecta si el valor generado ya ha aparecido antes (usando el conjunto valores_generados). Si es así, se detecta un ciclo y se marcan los puntos de inicio y final del ciclo.\n",
        "\n",
        "4.-Se actualiza x0 al nuevo valor generado para la siguiente iteración."
      ],
      "metadata": {
        "id": "5sPu31vvvMhD"
      }
    },
    {
      "cell_type": "code",
      "source": [
        "for i in range(1, iteraciones+1):  # Inicia el for desde i hasta el número de iteraciones\n",
        "    generadornuevo = generador(a, c, m, x0)  # Llama a la función generador que ejecuta la fórmula\n",
        "    lista.append([i, x0, generadornuevo / m])  # Guarda el nuevo valor\n",
        "    if generadornuevo in valores_generados and not ciclo_detectado:\n",
        "        ciclo_inicio = i  # Registra el inicio del ciclo\n",
        "        ciclo_detectado = True\n",
        "    if ciclo_detectado:\n",
        "        ciclo_final = i  # Si se detecta un ciclo, se marca el final\n",
        "    valores_generados.add(generadornuevo)  # Agrega el valor generado a la lista de valores\n",
        "\n",
        "    x0 = generadornuevo  # Valor anterior\n"
      ],
      "metadata": {
        "id": "5on1sHo5v4Po"
      },
      "execution_count": null,
      "outputs": []
    },
    {
      "cell_type": "markdown",
      "source": [
        "Ahora:\n",
        "\n",
        "1.-Se define la lista de titulos para las columnas de la tabla.\n",
        "\n",
        "2.-tabulate() se usa para imprimir los resultados de las iteraciones en una tabla.\n",
        "\n",
        "3.-Se imprime un mensaje indicando si se detectó o no un ciclo."
      ],
      "metadata": {
        "id": "XlEGeSZYwLeD"
      }
    },
    {
      "cell_type": "code",
      "source": [
        "# Títulos de la tabla\n",
        "titulos = [\"i\", \"x_i\", \"x_{i+1}/m\"]\n",
        "\n",
        "# Visualizar la tabla\n",
        "print(\" A continuacion se vizualiza la tabla de valores generados:\")\n",
        "print(tabulate(lista, headers=titulos, tablefmt=\"grid\"))\n",
        "\n",
        "# Mostrar información del ciclo, si existe\n",
        "if ciclo_detectado:\n",
        "    print(f\"Ciclo de vida detectado en la iteracion: {ciclo_inicio}\")\n",
        "else:\n",
        "    print(\"No se detectó ningún ciclo en las iteraciones.\")\n"
      ],
      "metadata": {
        "colab": {
          "base_uri": "https://localhost:8080/"
        },
        "collapsed": true,
        "id": "MPF-d92xwkMm",
        "outputId": "ca6e07a5-cea2-49ac-9fa7-352e3078c3c4"
      },
      "execution_count": 5,
      "outputs": [
        {
          "output_type": "stream",
          "name": "stdout",
          "text": [
            " A continuacion se vizualiza la tabla de valores generados:\n",
            "+-----+-------+-------------+\n",
            "|   i |   x_i |   x_{i+1}/m |\n",
            "+=====+=======+=============+\n",
            "|   1 |    21 |   0.709677  |\n",
            "+-----+-------+-------------+\n",
            "|   2 |    22 |   0.387097  |\n",
            "+-----+-------+-------------+\n",
            "|   3 |    12 |   0.612903  |\n",
            "+-----+-------+-------------+\n",
            "|   4 |    19 |   0.354839  |\n",
            "+-----+-------+-------------+\n",
            "|   5 |    11 |   0.935484  |\n",
            "+-----+-------+-------------+\n",
            "|   6 |    29 |   0.129032  |\n",
            "+-----+-------+-------------+\n",
            "|   7 |     4 |   0.193548  |\n",
            "+-----+-------+-------------+\n",
            "|   8 |     6 |   0.548387  |\n",
            "+-----+-------+-------------+\n",
            "|   9 |    17 |   0         |\n",
            "+-----+-------+-------------+\n",
            "|  10 |     0 |   0.483871  |\n",
            "+-----+-------+-------------+\n",
            "|  11 |    15 |   0.645161  |\n",
            "+-----+-------+-------------+\n",
            "|  12 |    20 |   0.0322581 |\n",
            "+-----+-------+-------------+\n",
            "|  13 |     1 |   0.16129   |\n",
            "+-----+-------+-------------+\n",
            "|  14 |     5 |   0.870968  |\n",
            "+-----+-------+-------------+\n",
            "|  15 |    27 |   0.774194  |\n",
            "+-----+-------+-------------+\n",
            "|  16 |    24 |   0.741935  |\n",
            "+-----+-------+-------------+\n",
            "|  17 |    23 |   0.0645161 |\n",
            "+-----+-------+-------------+\n",
            "|  18 |     2 |   0.83871   |\n",
            "+-----+-------+-------------+\n",
            "|  19 |    26 |   0.0967742 |\n",
            "+-----+-------+-------------+\n",
            "|  20 |     3 |   0.516129  |\n",
            "+-----+-------+-------------+\n",
            "|  21 |    16 |   0.322581  |\n",
            "+-----+-------+-------------+\n",
            "|  22 |    10 |   0.258065  |\n",
            "+-----+-------+-------------+\n",
            "|  23 |     8 |   0.903226  |\n",
            "+-----+-------+-------------+\n",
            "|  24 |    28 |   0.451613  |\n",
            "+-----+-------+-------------+\n",
            "|  25 |    14 |   0.967742  |\n",
            "+-----+-------+-------------+\n",
            "|  26 |    30 |   0.806452  |\n",
            "+-----+-------+-------------+\n",
            "|  27 |    25 |   0.419355  |\n",
            "+-----+-------+-------------+\n",
            "|  28 |    13 |   0.290323  |\n",
            "+-----+-------+-------------+\n",
            "|  29 |     9 |   0.580645  |\n",
            "+-----+-------+-------------+\n",
            "|  30 |    18 |   0.677419  |\n",
            "+-----+-------+-------------+\n",
            "|  31 |    21 |   0.709677  |\n",
            "+-----+-------+-------------+\n",
            "Ciclo de vida detectado en la iteracion: 31\n"
          ]
        }
      ]
    },
    {
      "cell_type": "markdown",
      "source": [
        "CODIGO COMPLETO:"
      ],
      "metadata": {
        "id": "rDLq5HPoxHdx"
      }
    },
    {
      "cell_type": "code",
      "source": [
        "from tabulate import tabulate  # PARA LA TABLA\n",
        "\n",
        "# Datos ya dados\n",
        "# Multiplicador\n",
        "a = 21\n",
        "# Incremento\n",
        "c = 15\n",
        "# Módulo\n",
        "m = 31\n",
        "# Semilla\n",
        "x0 = 21\n",
        "iteraciones = 31  # Número de iteraciones a generar (puedes cambiarlo)\n",
        "lista = []  # Lista que almacena los valores generados\n",
        "ciclo_detectado = False\n",
        "valores_generados = set()  # Para detectar repeticiones y ciclos\n",
        "# Ciclo de vida (cuando se repite un valor, se detecta el ciclo)\n",
        "ciclo_inicio = None #definiremos la variable donde inicia el ciclo y no le asignaremos ningun valor\n",
        "ciclo_final = None  #definiremos la variable donde finaliza el ciclo y no le asignaremos ningun valor\n",
        "\n",
        "\n",
        "def generador(a, c, m, x):\n",
        "    return (a * x + c) % m  # Fórmula dada en clase % es el módulo\n",
        "\n",
        "# Genera los números y los guarda en una tabla\n",
        "for i in range(1,iteraciones+1):  # Inicia el for desde i hasta el número de iteraciones\n",
        "    generadornuevo = generador(a, c, m, x0)  # Llama a la función generador que ejecuta la fórmula\n",
        "    lista.append([i, x0, generadornuevo / m])  # Guarda el nuevo valor\n",
        "    if generadornuevo in valores_generados and not ciclo_detectado:\n",
        "        ciclo_inicio = i  # Registra el inicio del ciclo\n",
        "        ciclo_detectado = True\n",
        "    if ciclo_detectado:\n",
        "        ciclo_final = i  # Si se detecta un ciclo, se marca el final\n",
        "    valores_generados.add(generadornuevo)  # Agrega el valor generado a la lista de valores\n",
        "\n",
        "    x0 = generadornuevo  # Valor anterior\n",
        "\n",
        "# Títulos de la tabla\n",
        "titulos = [\"i\", \"x_i\", \"x_{i+1}/m\"]\n",
        "\n",
        "# Visualizar la tabla\n",
        "print(\" A continuacion se vizualiza la tabla de valores generados:\")\n",
        "print(tabulate(lista, headers=titulos, tablefmt=\"grid\"))\n",
        "\n",
        "# Mostrar información del ciclo, si existe\n",
        "if ciclo_detectado:\n",
        "    print(f\"Ciclo de vida detectado en la iteracion: {ciclo_inicio}\")\n",
        "else:\n",
        "    print(\"No se detectó ningún ciclo en las iteraciones.\")\n"
      ],
      "metadata": {
        "id": "Sr2PydI_xLNl"
      },
      "execution_count": null,
      "outputs": []
    }
  ]
}