{
  "nbformat": 4,
  "nbformat_minor": 0,
  "metadata": {
    "colab": {
      "provenance": [],
      "authorship_tag": "ABX9TyP7kB1SDCK05UKPgZSRe0em",
      "include_colab_link": true
    },
    "kernelspec": {
      "name": "python3",
      "display_name": "Python 3"
    },
    "language_info": {
      "name": "python"
    }
  },
  "cells": [
    {
      "cell_type": "markdown",
      "metadata": {
        "id": "view-in-github",
        "colab_type": "text"
      },
      "source": [
        "<a href=\"https://colab.research.google.com/github/NaydelinAidee/Simulaci-nI/blob/main/simulacionaleatoria.ipynb\" target=\"_parent\"><img src=\"https://colab.research.google.com/assets/colab-badge.svg\" alt=\"Open In Colab\"/></a>"
      ]
    },
    {
      "cell_type": "markdown",
      "source": [
        "# **GENERADOR CONGRUENCIAL**\n",
        "*---NAYDELIN AIDEE CARCAMO HERNANDEZ---*"
      ],
      "metadata": {
        "id": "XSpM6zcAc6hj"
      }
    },
    {
      "cell_type": "markdown",
      "source": [
        "Los generadores de numeros aleatorios son procedimientos que se utilizan para generar una secuencia de numeros de forma aleatoria.Para ellos se disponen de algoritmos (dependiendo del lenguaje de progrtamacion) de manera que el usuario pueda utilizar estos programas."
      ],
      "metadata": {
        "id": "ZGQ_dtkTmRfg"
      }
    },
    {
      "cell_type": "markdown",
      "source": [
        "NOTA:Este código que implementa el generador congruencial e indica el ciclo de vida para las constantes elegidas.\n"
      ],
      "metadata": {
        "id": "JqqSP7a5eXMr"
      }
    },
    {
      "cell_type": "code",
      "execution_count": 28,
      "metadata": {
        "colab": {
          "base_uri": "https://localhost:8080/"
        },
        "id": "tZo-y7PqcuwF",
        "outputId": "fd00a54e-86b3-4f34-9462-f6abc70104d4"
      },
      "outputs": [
        {
          "output_type": "stream",
          "name": "stdout",
          "text": [
            " A continuacion se vizualiza la tabla de valores generados:\n",
            "+-----+-------+-------------+\n",
            "|   i |   x_i |   x_{i+1}/m |\n",
            "+=====+=======+=============+\n",
            "|   1 |    21 |   0.709677  |\n",
            "+-----+-------+-------------+\n",
            "|   2 |    22 |   0.387097  |\n",
            "+-----+-------+-------------+\n",
            "|   3 |    12 |   0.612903  |\n",
            "+-----+-------+-------------+\n",
            "|   4 |    19 |   0.354839  |\n",
            "+-----+-------+-------------+\n",
            "|   5 |    11 |   0.935484  |\n",
            "+-----+-------+-------------+\n",
            "|   6 |    29 |   0.129032  |\n",
            "+-----+-------+-------------+\n",
            "|   7 |     4 |   0.193548  |\n",
            "+-----+-------+-------------+\n",
            "|   8 |     6 |   0.548387  |\n",
            "+-----+-------+-------------+\n",
            "|   9 |    17 |   0         |\n",
            "+-----+-------+-------------+\n",
            "|  10 |     0 |   0.483871  |\n",
            "+-----+-------+-------------+\n",
            "|  11 |    15 |   0.645161  |\n",
            "+-----+-------+-------------+\n",
            "|  12 |    20 |   0.0322581 |\n",
            "+-----+-------+-------------+\n",
            "|  13 |     1 |   0.16129   |\n",
            "+-----+-------+-------------+\n",
            "|  14 |     5 |   0.870968  |\n",
            "+-----+-------+-------------+\n",
            "|  15 |    27 |   0.774194  |\n",
            "+-----+-------+-------------+\n",
            "|  16 |    24 |   0.741935  |\n",
            "+-----+-------+-------------+\n",
            "|  17 |    23 |   0.0645161 |\n",
            "+-----+-------+-------------+\n",
            "|  18 |     2 |   0.83871   |\n",
            "+-----+-------+-------------+\n",
            "|  19 |    26 |   0.0967742 |\n",
            "+-----+-------+-------------+\n",
            "|  20 |     3 |   0.516129  |\n",
            "+-----+-------+-------------+\n",
            "|  21 |    16 |   0.322581  |\n",
            "+-----+-------+-------------+\n",
            "|  22 |    10 |   0.258065  |\n",
            "+-----+-------+-------------+\n",
            "|  23 |     8 |   0.903226  |\n",
            "+-----+-------+-------------+\n",
            "|  24 |    28 |   0.451613  |\n",
            "+-----+-------+-------------+\n",
            "|  25 |    14 |   0.967742  |\n",
            "+-----+-------+-------------+\n",
            "|  26 |    30 |   0.806452  |\n",
            "+-----+-------+-------------+\n",
            "|  27 |    25 |   0.419355  |\n",
            "+-----+-------+-------------+\n",
            "|  28 |    13 |   0.290323  |\n",
            "+-----+-------+-------------+\n",
            "|  29 |     9 |   0.580645  |\n",
            "+-----+-------+-------------+\n",
            "|  30 |    18 |   0.677419  |\n",
            "+-----+-------+-------------+\n",
            "|  31 |    21 |   0.709677  |\n",
            "+-----+-------+-------------+\n",
            "Ciclo de vida detectado en la iteracion: 31\n"
          ]
        }
      ],
      "source": [
        "from tabulate import tabulate  # PARA LA TABLA\n",
        "import matplotlib.pyplot as plt\n",
        "import numpy as np\n",
        "\n",
        "# Datos ya dados\n",
        "# Multiplicador\n",
        "a = 21\n",
        "# Incremento\n",
        "c = 15\n",
        "# Módulo\n",
        "m = 31\n",
        "# Semilla\n",
        "x0 = 21\n",
        "iteraciones = 31  # Número de iteraciones a generar (puedes cambiarlo)\n",
        "lista = []  # Lista que almacena los valores generados\n",
        "ciclo_detectado = False\n",
        "valores_generados = set()  # Para detectar repeticiones y ciclos\n",
        "# Ciclo de vida (cuando se repite un valor, se detecta el ciclo)\n",
        "ciclo_inicio = None #definiremos la variable donde inicia el ciclo y no le asignaremos ningun valor\n",
        "ciclo_final = None  #definiremos la variable donde finaliza el ciclo y no le asignaremos ningun valor\n",
        "\n",
        "#Comenzamos en el Generador\n",
        "def generador(a, c, m, x):\n",
        "    return (a * x + c) % m  # Fórmula dada en clase % es el módulo\n",
        "\n",
        "# Genera los números y los guarda en una tabla\n",
        "for i in range(1,iteraciones+1):  # Inicia el for desde i hasta el número de iteraciones\n",
        "    generadornuevo = generador(a, c, m, x0)  # Llama a la función generador que ejecuta la fórmula\n",
        "    lista.append([i, x0, generadornuevo / m])  # Guarda el nuevo valor\n",
        "    if generadornuevo in valores_generados and not ciclo_detectado:\n",
        "        ciclo_inicio = i  # Registra el inicio del ciclo\n",
        "        ciclo_detectado = True\n",
        "    if ciclo_detectado:\n",
        "        ciclo_final = i  # Si se detecta un ciclo, se marca el final\n",
        "    valores_generados.add(generadornuevo)  # Agrega el valor generado a la lista de valores\n",
        "\n",
        "    x0 = generadornuevo  # Valor anterior\n",
        "\n",
        "# Títulos de la tabla\n",
        "titulos = [\"i\", \"x_i\", \"x_{i+1}/m\"]\n",
        "\n",
        "# Visualizar la tabla\n",
        "print(\" A continuacion se vizualiza la tabla de valores generados:\")\n",
        "print(tabulate(lista, headers=titulos, tablefmt=\"grid\"))\n",
        "\n",
        "# Mostrar información del ciclo, si existe\n",
        "if ciclo_detectado:\n",
        "    print(f\"Ciclo de vida detectado en la iteracion: {ciclo_inicio}\")\n",
        "else:\n",
        "    print(\"No se detectó ningún ciclo en las iteraciones.\")\n"
      ]
    }
  ]
}