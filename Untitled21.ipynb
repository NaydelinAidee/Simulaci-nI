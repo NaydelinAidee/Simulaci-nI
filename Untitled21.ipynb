{
  "nbformat": 4,
  "nbformat_minor": 0,
  "metadata": {
    "colab": {
      "provenance": [],
      "authorship_tag": "ABX9TyPEooro1PG49szUd+Pzy73j",
      "include_colab_link": true
    },
    "kernelspec": {
      "name": "python3",
      "display_name": "Python 3"
    },
    "language_info": {
      "name": "python"
    }
  },
  "cells": [
    {
      "cell_type": "markdown",
      "metadata": {
        "id": "view-in-github",
        "colab_type": "text"
      },
      "source": [
        "<a href=\"https://colab.research.google.com/github/NaydelinAidee/Simulaci-nI/blob/main/Untitled21.ipynb\" target=\"_parent\"><img src=\"https://colab.research.google.com/assets/colab-badge.svg\" alt=\"Open In Colab\"/></a>"
      ]
    },
    {
      "cell_type": "markdown",
      "source": [
        "# Metodo de Box Y Muller.\n",
        "NAYDELIN AIDEE CARCAMO HERNANDEZ.\n"
      ],
      "metadata": {
        "id": "SWiN3uSnSpX8"
      }
    },
    {
      "cell_type": "markdown",
      "source": [
        "sirve para generar pares de números aleatorios con distribución normal estándar (media 0 y varianza 1) a partir de dos variables aleatorias con distribución uniforme en el intervalo (0, 1). Es una herramienta útil en estadística, simulaciones y modelado, donde se necesitan variables con distribución normal.\n",
        "\n",
        "Principalmente en este metodo la densidad conjunta de dos variables aleatorias normal estandar independientes $X_1$ y $X_2$ es:\n",
        "\n",
        "$f(x_1,x_2)$ = $\\frac{1}{2\\pi}$ $e^\\frac{-1}{2}($$x_1^2$+$x_2^2$)\n",
        "\n",
        "Dicha funcion es simetica y depende solo de la distancia al origen, es decir:\n",
        "$r^2=$$x_1^2$+$x_2^2$ por lo tanto es mas conveniente pasarlo a coordenadas polares.\n",
        "$R^2=$$x_1^2$+$x_2^2$ ,\n",
        "$\\theta= \\arctan (\\frac{x_2}{x_1})$\n",
        "\n",
        "\n",
        "Con el cambio de variable tenemos que:\n",
        "\n",
        "\n",
        "*   $R_2$ sigue una distribucion exponencial con parametro 1 asi que $R=\\sqrt(-2ln U_1)$\n",
        "*   Dado que $\\theta$ = 2$\\pi U_2$ donde $U_1 y U_2 $ son variables independientes con distribucion en (0,1); entonces obtenmos las siguientes variables independientes:\n",
        "$$X_1= \\sqrt(-2ln U _1) * \\cos(2\\pi U_2)$$\n",
        "$$X_2= \\sqrt(-2ln U _1) * \\sin(2\\pi U_2)$$\n",
        "\n",
        "La transformacion garantiza que se conserva la independencia y que la distribucon conjunta de las variables transformadad es la esperada:\n",
        "$f(x_1,x_2)$ =f(x_1)f(x_2)= $\\frac{1}{$(2\\pi)^\\frac{1}{2}$}$ $e^\\frac{-x_1^2}{2}(\\frac{1}{2})$\n",
        "\n",
        "Es una técnica útil en simulación, estadística y modelado estocástico, donde la distribución normal es común.\n",
        "En detalle:\n",
        "\n",
        "\n",
        "-Generación de uniformes: El método comienza con dos variables aleatorias uniformes independientes, U1 y U2, en el intervalo.\n",
        "\n",
        "-Transformación a normales: Utiliza las siguientes fórmulas para transformar U1 y U2 en dos variables aleatorias normales estándar, X y Y:\n",
        "\n",
        "![image.png](data:image/png;base64,iVBORw0KGgoAAAANSUhEUgAAASMAAABCCAYAAAAc/7BmAAAAAXNSR0IArs4c6QAAAARnQU1BAACxjwv8YQUAAAAJcEhZcwAADsMAAA7DAcdvqGQAABoBSURBVHhe7Z0NTFRnusf/3ttYGleKtdwLbt1A64ai1btQ6AZsmzJiZMGULi52d+hHcHQj4gYbrDZ1dLeKN35AlFTE24LuRjGpXlz1FrQRZ5JahqxQ2GLLR6rOZKsM8QuEGj60ee9zZt6R+ThnODMMZazvLzkOzzvHmffjOc95nue8876TGAGBQCCYYP6NvwoEAsGEIoyRQCAICh56Y2TetxElFi4IBIIJ46E3Ru0dQGwUFwQCwYTxkBujLrTjWcRyyc5NVG4uR8MtLgYRg5eacOycBYNc9gnrSawtuYDee1weE8MwHylFSSsXlbjXj4aSchzu4/IDTEPpTlRahrkk8ODWBehLjOjloj9MiDEavHIBtTX1aJdTUusFHFN6L+CY0YwoRHNJwlyxBssPdsH6CC/wFWsTSjavR/yvdcjYXIVaVQp8Ey01TWi/w0UFrGdKsWRzPaxcVk8XSlYUocxyA7C1S/o+I1pkP2gY7eeMMFzyrHd3s6N8MgZvNWGttgi13upM39Xz3UnkaKuop9Vg/275ek0cg8YipJPl7f5hMi+hvjhXhbXLdIhcvB5r99XDPMTf8Iq6cQ4EthtX600uKeGjHvRZUFmyEQtSlmLBn8pR+U0/f4N4pA/mA+uhqejiBX4gPdr/0blrZkWpiQy5p1kPL7Jxt4NtSEpkYQVfuJaPF+ZDTFt+lQvE7dMsfWYiSz/exwt85OIhFkf/H6+sY7r1W1j6K/MZZqaxwvP8fUW+YNqZb7BiMxcVuFz+BkPqIXaZy2rpOb6O6rGOVd3mBbbvS2TaM1x04SorprGJde6XwausYmUafYZTOR+r6G0ddlkJn/rU/t3y9ZogZNrZJo3DzPksNncLjfM6FhtNYx6/m5nu8hMUUTfOgcCmK3QdeccHPbhN586R2pnHtKTb2ixJH+YzzSc37O8TnnrmGxNjjCS+2suiZ2qoI4Z4AQ3yHurAWXpW7WdjfOaM3mUg2oozGZL2sjYu+8YQq1rhbmD7WMVb9rIBXuJCx14WOyubaT7Qs6SZmUxTuI7FzcpkG77i77vhnzHiF1Oxs9HwQQnNJ1h6vGRgs2m8XI3UgEP5vucFCozar98bWNYsDYsr2GH7rtgVW5jmhflkwEZ0Y6LwaKNUV3fjepv6yFamUF8fx9l/JB3UsLAMPcvPpT5PpZvi6/SqpH8+6IFjDJudDK5pK5XFUxmX5XVNParCtCOf1uEvuz62vQaMeXmoyp2Mw2tK0SDlMSxVyNneifTidcgKtZ8SUOjzZ6+p54KDZxE/i/+JTlRVdyH2rUy3HJJabiAk6lUU56UgjJcAU6FJigG+uyEfWsXoYPq0AEltJjRQKGW6EgV9dSX08/j7XnG40f3o/eYk9O8VYfl7pSgxdrnmlDoNOHwlBvlLqB7+cLETPdpK9JyhevIiByEZr0ILI6rrvIeisUuyEXvlM1R18gJ3pqSg6vO9yEc9aq8D7V8PIWvXIVRnjIRFngyju9XR7iL5UOke9ZGRwil+jv5Ip0fObNBST2G1/f3lJSfR4pIrHMYxCmOQRe2cwot6gGhtAfSpU3kBEZoADXWv2UphsByqx5nC6YUvYNIvVBweuiwxGdpdR2B4C6ito3CpsxMDGXq0fbgIIfwM/xhG7xMJKFyfiTin9EXSC3OB611Ouh0D3VsxMFcb0M5LfGFUY5S98j18fPjvmER/f0SvkhwoktbpocNR5JQ0oXJzKVqS9ajMdBpkD+wXoKQgcodirqFuIya93IE47HN5jG++6PQk7UoTaq/MQFbyDF7gK/R/39ejMNH1Auq9TXH1o1zwYDLCIqkeX/dDk5GCkK+7yKBNV6k4N1C7eT1yClaRAT1ty8kMfHsaa99+DRmHR3IF5nMmmMOTofH3ieEr78JUOBdhcjm0RxKRkQocO9fICxSISkBWeBdqzynnE0LCH0XvxS5Epy1CXLcFg/8ZhRDFvF0/atdmInJxKWqv2WVDyTt4OrkItY5c4z0LSn6nwWzdUbRIOZo7Xah8701Me60K7dwg9ZJeRL68HpVcJ6yf7kB8wnqnhHsjDKeB9JRELhNPpaB4Ww6SHMbJRj96yIgp11ftOM9A4ZnzYP86j8vvk3WLKcBl+luSpaMmi05xlO2eb/8v7kyhz71lgZnqmTXvBtrvPIlYl7r6w2Qk5epRnOl6bQzekW5CrsodnZyMiCsmupZ4gS/YHSR5Pvm/M2zBH1ZxyU4qyVJ5oBgwbGFh5CpCVSx9le15K5NFvCB/FH7OT3Oj5gyPnSkscw4zasqdQh6qh5qQwzdGd1ubyf2NsOXI+lhNQRqL+KBRwaV2D9PsbjTm7GBnB20FNs6+r6GQav/9kKimUC5M9CFMu4/9/7iXN28jVz1jtNCRwodcqkehcg5DyjeE0Oe0URgg5WRCXj/BrPw9dwZoHEMkfbnICyRuG5h21kj9bH0lhfw3baIdnvewjwcPq1cb7O9J3O1gRZnLSI94CPadlANUEU5RGBYtneclOvFlnCXkQvKaAqrvaGH67dMU8vK+kXKYs/JYRZf9LU/80QMHvP9WGFzb8b09R6hz6la1ePWM2r4146XEX3HJzoskS+WBImT6dEyz/TUDkU/Y/vDCDOT/7Tis/5A/il/ip7mRnsrvIql50FWXo9YmSI/1nZ6k/SD5+HQH83oXuYnaUu7S3z8O2EILOXpP7MfWKwnYoFUOkeIKqe7F8ym0m0oh6ilYNyX45FJHvPkqNE43J81LycClyyNPryQvIPRnY3TTlQl7nDzZUZ8kUb9KobeXaQVhmdsxcDwHseRdxK48iIFDryKCv+dO7YnPMJi5DIXP8AKJ0BSUmY7DoH2SBAsOf9KJiOVvIMtZp0Lno2g1hRGHDWihOkVHUt2Np1HZ2W8PbR+JwYbjlaRH3Dun+g7SuEzzmjbox+HtB2BOXgb6aEXGOs6qCV2E6vaD9r55JgfN7XuhI68s4LRSmHl6OvJXkKfHi2xM+ZktTTHwg130Ba/GaPYvo/FF4z+5ZOccyVJ5QCBXemvhAVgzc5H/lBG6TfX+zaFRDYVSSyxYu08KF6TLNUDtkKG3uRyaPxmh2bZldGVwuPeKbr4y0yRj4IwfnxE0ONddsR1dMEsTVed4Xvlh4TMQESqFyVfRdokM8/Oe50TPoniV5zmSCnej+PlWLF+4AI/9YgEiU1ZhbY1bzs0r/WjYvgo5dQmo2KVsPO8zhnH2CVX9OAasn2GJ9gB6cndgj1MEO1a8GqOli1PpjjYVqdp8fLDrYyyk12kkS+WBwPzXjdB3pqByax72lGYj5FgR1npNP3hP8OWoyK9Hr1yJuGojzBYLMMspBv4PUmTyfKwKXo6d6Ugv0KNim/ORi/Rw/jan17QT8a8dAN4/grPa6bx0YoiMpDZ230Q3l+08iWiqc/c1uXkowxj04sG4020lwz59Kh7jsjzUr1SBkMcD9GSCPMEeKRfnBak+vbachhvObQudi8K/nQL79iysZ7ajZPGjqMp7DcmOuTLh1E+S8ZPViX4Y/qxDchlQbBwn72Pc8UMPLp3EgoUbYUjdBfMHc3mhE9clXSNv8nEu+8CoCeyj+7bhj9rfQlpnZAW9SnJAsJ7E8s2d5Dmsg1bS0cQCVC0FygrK0aJ4MVCY9gm5uF/KH2UKYZor5KovOQ397g408xIbzzyNeDTB8BWX/WIY7QfeQfTvDYjedgTNKyf+dyaxz5J3YGpEs0ufRmP2fwGGuibPGbPWRtRcmkpehZpEfhdMX/YjIi5mFK+gAw0m8lTivcQxqpmB5OenovuE+xObYQqhN2KrUbqwEqGh+6U0sdbdyzGco4okJ9JY96Ol7jMcayWD9ehURMQkQFu4C7X5M9BynG5W0slTohAXTkbnS7fE+5AFZTlLsaD656gw8pDogcQ3Peg17sTTKUUwL9kL824p5JTh61YYkIDk2Vz2BZ47+pHpsyc03ZNxjiTknnGeFWY+xGI9EuY3WMXriSzk/UYu+8oQq1kvTQTLZrpTZma9dsPp6POarFSLXALbI8F4Rk910LMaLrJrJ5hmpobl13PZwfkdLGzmfJZU3Mgu35bmxwyxng4D072klCSVSWB3HWFJ0mePNqmzfgcLmZnHKq5xeazQ+EmTS+O2NTKrLXk/xC5/so7akzZSF1v70phmfwcbkObG3B1ibfwcncHeXlsCdo5TkvtmKyukPg3Z1MoLGDNt0jBkHhlJpn//BdNJ866StrDqi85jTIetHwOD3wlsX1GpB5f3LyO9ovP2tLq2WdJtp7lHtgcoXh4+eGNCjFHPKelpiPxTCvssTrcnJeNATYHTBctRO4lPHv50iy4Sz8Pzu/zBL2PkuOjcn3oQ1lM77LOHneoakrabnZWddOppjNRNElX+/rHQU7/bre5pLL3K9SZmPa5nEd7Oud3KNmTRxXP/fWp/1l5mcm6/+5My243M+TOdjlFnPKvnRzNGhBo9sH230/sjh9NNnU8IzfJzsurEzcCeaMxXPQdV7U8cHjRss92VHlHTndCfO7van3l4/e6xMlL3HqfpDS6QR2Q/x/UO7szAbW/t5168+0+XfnL4qQdO2KZ5uM3S9oWH1xgpwd173ef+DUiwYtpEIaTbnCT/ucr2ZNIFOpo7PtjIdHMSWZhT2PNA0iWFuoksab/SnBvBwOf262bUkN0Lk6R/ePpIwGlvvIDIxLnyCboHlXsWNLROR1K821QAf7l0AQ3hc5E0ygOy3uYLsM6ba5s/9CDTTe0AtSPiAW/H+NGPhsabSEr0/6GNMEYCgSAoGPXRvkAgEPwYCGMkEAiCAmGMBAJBUCCMkUAgCAqEMRIIBEGBMEYCgSAoEMZIIBAEBcIYCQSCoEAYI4FAEBQIYyQQCIICYYwEAkFQ8HAbI2mvNtt62AKBYKJ5uI3RxQ7XdbAFAsGE8VAbI2kTx5EdZe00lO5EpcX7DqkTw020eNuochQC2q5bF6AvMXqum+zGoOUk1lYobSM7XvSj3ViP9vsbMfpG8I5/kHCvHw0l5U4bXQaOCTFGvd/U41hNp9uOFXa6m404ZrSMquiBoF3a8sZp+ZVBYxHSS1rR/YO3bZW9QRfCkXLk/H4pZv9+o+x2ynIMXmrCsVa5HRqc6UBx3noUf8NFH3Bvl+37zlnkt+SxdsqOTW8njZmjjo/0wXxgPTSOXTQUCPmhH4bNa7DcqPLilr5bqV5qMZZi9tvvYPZ/N/EC9ciNf/e5KqxdpkPk4vXyW2jLIt04mtAu7WQ7zqjTHW83Msc26c5j5EWPHwF6vjuJHG3VyN58gUJaz+hHh68j7LFkqVL5uHCVFRc4rSc85iVn7TuFSussJ63ewnSr81gEtQXa0Rcnt613POr6yd52//SCTLvk1le+j/sa2nf7mKlYWoyd2uJUR/ta5etYlex62SP4tBSp9N1jXeP57g1WXX6InVXcRVUBmX6SdraVFqGPzaXxXL/Ovk50/G5mGrUt0li5b/gwPoxdd9zXUlehx2qXHPaRCVt21qakc7awmvuL3/O1hv3cWcB3aICcBnFsi/ETjoXbndd6/nI3DaTy2tNVKzQsLEPP8nOpL1LXMd3r9OqxFbUD/4yRXLtUG6PvW1nhK/PpAsxm0bNcjZGarbttqFikva04m4W8lMcKC8joxecxXe4bLEQyYPz9HwOPfuL1drngbp/gF6FCW0gHYmdlM80HepZE464pXMfiZo3H+t+B1B03Y6RSj9VtxuAbqsK0I5/W4S+7Pra9Boq4wi3Ix0ms3sNzCo37kF83AxveV7Ezp89Imz9u5NtajxD/rGNH2WEKTYxA1qvQet3eWpnBO09CszwPunm8QCI+ARppE8BrXHZhMrS7jsDwFlBbR+FOZycGMvRo+3CRum2PHeHUUBdq95Xat9ouOYmWW/x9G2Ns1/VWtD+7DpdNu5HvsZpoDHRvxcBc7b5/mRtTUqDLAtVDebfg2NWVaP5gLoUSF+g7O2GOWQbTCR3i+Pse3OtHC4UR9u3FS1FidN4F1i0k8befeoBobQH0qU7L9IbSeMYAZusNXuBGjA6mTwuQ1GZCg7Sn3JUo6KsroXfWCY5535uyG5F6Hp56O2bd8YJaPY5dko3YK5+hKoApwVGNUfbK9/Dx4b9jEv39Eb1KckB4ZC6KihfBWlaEkkud0BccBXK3oEhm4BzY4mNSGtlDMW6uR84vXkPzHPBtrTkuO8o2wnAaSE/xf6/ekPhsVGxa5Lph9p3vbbmvx/7dLnowZTpCbllgfioFWfNuoJ0UIVat0fjmEJbkFSF9yZtYe17aXbUfJurL+Jd3ouF+nmqM7XoqBzXlryLaaS9/Z6KTkxFxxYTaK7xAAU1KCnC6HgYue/DoVET+0IXmoQRkpU1Gs3UyosMV8nb3LCh5bQHit1/AgCTf6UTx268hvsRxVbjl1vztJxqT4m05SHIZj370kBELUVwHezLCIsnQfN0PTUYKQr7uQkgUjTF/15nolQfB/nUe7PMCxJJhL/6c/pZk6di/iM5wlG1Buv2/uDIW3fGCaj2OorEKJwN/LnBTY7waI8kT6unrx5nDZfjzOytQR6+9JAfKQwpLW4M9yZ1Yu1CHrdcXobJQZrtcJ6ymKuRvLpU/jiuk06iqOTTAVbvT7Nta82JcpMPxJO2KBc2YgbhofxPX8gzWGeiulgLNC7zAnb7PoC8Big9uR3VpHlCyA5U+PS3rxLQlB9G2X9pmezva6t9FUt9R7HEMz1jbNdri87ZdeDvR/i2XFQiJjiJvl85TNFpkUDY0IX0/9UOxHunndqLIpJD0vnQKZa1RKDqyF1XS9uIf7kU7eQRoJS+On+JJgPqp04DD12cg/SXl6SAtH++0bf1cXa5HVWoTdLubxpaQV2LMuqMeeT2270bb0hG4NLZXY9T2rRkvJf6KS3ZeJFkqDwzTodtGd4Z7w0h6fw2yRtlpIvrNXbD+47j8sSmBn+VG6nx+Z+HbWnMFlB7r33+SRnfIQWl/8FG+v9t4gIcGI4d9O2UZ7nWiaLsRYblvKIdIoYtQ3c63R34mB83tvu7ZTiHQUqcLIzIRGfRZLRZ+t1LZLr+Z8jPbDioDP9hFRUJDMU16ve+JuBODovpTdPFSSBQ6H1U0nsXJCobhiZ/TZWBB9f82oZs/rQrL3IK2v1HYYBdlCEQ/9ePw9gMwJy/Dai+7dMcVki4WS1s/T0V68SmbXo41dJJlzLqjEkU9Ji9Q6i/FMfUdr8Zo9i+j8UXjP7lk5xzJUnnAiIqy5QaiZ063y+NIdFoaWrbbH0lKd1Fl5R0j927i8Ko12NqXjdqN3r09F+/D521wSCHcFEQ5hAhy1PZD+Kuo+igbg/+zCpGxL2DScxSirTmKBpcckDtj7ad+NGxfhZy6BFTsUpHTdHz2eI+F2j7zF1/0OAB4NUZLF6eS9ZuKVG0+Ptj1MRbS6zSSpfKJwGvSb009P8sLUTkonnMax+iO2I6okbg4/En6uwvm61xWICIll9x8ydUfOTakuBnRexZUvv0GckwJqDFRODDeCukNhXZFRpKXQH0gN8/Lpzvd9Zv0GeRRPM5lJa5THeg8V4PgPxFp76Lt8nkM/PM4mj/MQfxXpUh+uQi1/s7r8Tr+/TD8WYfkMgqJjOPkfYw71L5w8uyvyXnxwxiUG/NR9fgmrKRAIY8Hzu0eNYF9dN82/FH7W0ibq62gV0meKKLf3Avrl+T6yh2b1SVp09ekoXJ3OZo7eIHEFPLOwknpvhxjMu5WPVZrlmL5dxqcNW1B+niFR2pRaJcthzNUj5pWXuCE4ZwJSE5EPJe98nUrDEhA8mwuK2D+qhWD4XMRTxfEWBm0NOHYsSabdxvyxAzEpWSj4tONSO87iWPn7ef4jNL4D1lQlrMUC6p/jgojD4keSOz5HUNdk+dkYmsjai5NheZ5pzBWlR53oIFURRPvJWb1kVGNkYTkCf3lnRUT5hHdZ8pURIRPlz9CVSZpo1Kg++YztNx/rC8Rg4zFU9F+ul7eW1CD5SiSE95BWXgBTJ8sw+wh8hokz4GO3h9hJq48Cu2atxRFyV3YmrsRlZ399jvjnZsw7HsHSw4C2uVpqqZXGOqMZLjmQ+PV47mJ2k87EbL4ReVH9T4QMtSItWtWYUmZY6b2MMwnDDajmPScrcAPZPrpTj2WJy/FavN8VJ/QIyN0ZDy7+x60n4tMhjYvG2F1ZFhKyJDb6j+M3k4jlr++Ew0xy1DouJer1WOTCVXU51lKuT0/UGWMflrMQOH6RYhz+4FskvZ3iG6ugmPak89cbLU/Km6kkOHXv0Hk8yNH8sExelxjQL5d06H7qBLFzzVh+cIFeOxpCnNjf4MFO8zQbKtEVaoKBbtjRNnBfmT9YRTD1XkEJc3U59oA5Rxi8mD6cBGsJUvxmC1EfxFP6zuR9eEW6MbgeXn003ULTFLYduUklqS4jmfkpkb7OQ8Sie+i/aNM9JatwtPPvWjrt2kL16NqSg7OVueMpCxU6fEwDv/1KAbTspETAG/3Pnzy40PGVXbZY6o+nwGee5r18JKfBqO06/s+Zr12g44+NqDmJxscdT/zGMc+vTvEevyotzI/1fF3x9FvdNxWnhXvla9kZmkHgIfUGCnQdYJpZiaypP2O3+n8RAhwuwY+38HCZqax/PO8QIHL+6XftOWxCl9/JzZR/FTHP5AMNjLdnEQWtqmVFwSOSdI/3EkSEN3NF4B5cxExkU/BxoHAtqsfDY03kZTo8RsRV+5Z0NA6HUnxTj+pCHJ+quMfSHqpj6zUR7EB7iNhjAQCQVDwECawBQJBMCKMkUAgCAqEMRIIBEGBMEYCgSAoEMZIIBAEBcIYCQSCoEAYI4FAEBQIYyQQCIICYYwEAkFQIIyRQCAICoQxEggEQYEwRgKBICgQxkggEAQFwhgJBIIgAPh//dgTtcdQunwAAAAASUVORK5CYII=)\n",
        "\n",
        "-Resultado: X e Y son variables aleatorias normales estándar independientes.\n",
        "¿Por qué es útil?\n",
        "\n",
        "-Simulación:\n",
        "Es fundamental para simular procesos que siguen una distribución normal, como en finanzas (simulación de precios de activos) o en física (simulación de partículas).\n",
        "\n",
        "\n",
        "-Análisis estadístico:\n",
        "Permite generar muestras de una distribución normal estándar para realizar pruebas estadísticas o análisis de datos.\n",
        "-Modelado estocástico:\n",
        "Ayuda a generar variables aleatorias con distribución normal en modelos que involucran incertidumbre."
      ],
      "metadata": {
        "id": "XestMo7RUSs9"
      }
    },
    {
      "cell_type": "markdown",
      "source": [
        "Aqui tenemos la implementacion de un codigo ejemplificado"
      ],
      "metadata": {
        "id": "huQ20ZwaxMLP"
      }
    },
    {
      "cell_type": "code",
      "source": [
        "import random\n",
        "import math\n",
        "import matplotlib.pyplot as plt\n",
        "\n",
        "def box_muller_normal(mu=0, sigma=1):\n",
        "    \"\"\"Genera dos números aleatorios con distribución normal N(mu, sigma^2).\"\"\"\n",
        "    u1 = random.random()\n",
        "    u2 = random.random()\n",
        "\n",
        "    z0 = math.sqrt(-2 * math.log(u1)) * math.cos(2 * math.pi * u2)\n",
        "    z1 = math.sqrt(-2 * math.log(u1)) * math.sin(2 * math.pi * u2)\n",
        "\n",
        "    # Ajustar a media y desviación estándar deseadas\n",
        "    x0 = mu + sigma * z0\n",
        "    x1 = mu + sigma * z1\n",
        "\n",
        "    return x0, x1\n",
        "\n",
        "# Parámetros\n",
        "mu = 5        # media\n",
        "sigma = 2     # desviación estándar\n",
        "n = 10000     # cantidad total de datos generados\n",
        "\n",
        "# Generar datos\n",
        "data = []\n",
        "for _ in range(n // 2):\n",
        "    x0, x1 = box_muller_normal(mu, sigma)\n",
        "    data.extend([x0, x1])\n",
        "\n",
        "# Graficar histograma\n",
        "plt.hist(data, bins=50, density=True, color='skyblue', edgecolor='black')\n",
        "plt.title(f'Distribución Normal Generada (μ={mu}, σ={sigma})')\n",
        "plt.xlabel('Valor')\n",
        "plt.ylabel('Densidad')\n",
        "plt.grid(True)\n",
        "plt.show()\n"
      ],
      "metadata": {
        "id": "mpBtozXStYyf"
      },
      "execution_count": null,
      "outputs": []
    }
  ]
}