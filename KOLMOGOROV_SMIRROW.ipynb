{
  "nbformat": 4,
  "nbformat_minor": 0,
  "metadata": {
    "colab": {
      "provenance": [],
      "authorship_tag": "ABX9TyOBKpJhpHRCOaG/3uh1sYQz",
      "include_colab_link": true
    },
    "kernelspec": {
      "name": "python3",
      "display_name": "Python 3"
    },
    "language_info": {
      "name": "python"
    }
  },
  "cells": [
    {
      "cell_type": "markdown",
      "metadata": {
        "id": "view-in-github",
        "colab_type": "text"
      },
      "source": [
        "<a href=\"https://colab.research.google.com/github/NaydelinAidee/Simulaci-nI/blob/main/KOLMOGOROV_SMIRROW.ipynb\" target=\"_parent\"><img src=\"https://colab.research.google.com/assets/colab-badge.svg\" alt=\"Open In Colab\"/></a>"
      ]
    },
    {
      "cell_type": "markdown",
      "source": [
        "# **PRUEBA KOLMOGOROV-SMIRROW**"
      ],
      "metadata": {
        "id": "e0QX-sr616XX"
      }
    },
    {
      "cell_type": "markdown",
      "source": [
        "**NAYDELIN AIDEE CARCAMO HERNANDEZ**"
      ],
      "metadata": {
        "id": "AWjsr-2-2CXz"
      }
    },
    {
      "cell_type": "markdown",
      "source": [
        "Es una prueba no paramétrica que se utiliza para determinar si dos distribuciones de probabilidad son diferentes. Esta prueba se puede utilizar para analizar números aleatorios.\n",
        "\n",
        "**Pasos para realizar la prueba**\n",
        "\n",
        "1.-seleccionar una muestra de numeros pseudoaleatorios\n",
        "\n",
        "2.-ordenar de menor a mayor dicha lista\n",
        "\n",
        "3.Calcular i/el numero de datos\n",
        "\n",
        "4.-Calcular D+=(max|(i/numero de datos)-xi|),D-=(|xi-(i-1)/numero de datos)\n",
        "\n",
        "5.-Calcular el maximo de D+ y D-\n",
        "\n",
        "6.-determinar el valor critico de  d en la tabla de valores criticos de kolmogorov-smirrow para el nivel de confianza (1-alpha) y un tamaño de muestra.\n",
        "NOTA:si D > d se rechaza h_0\n"
      ],
      "metadata": {
        "id": "jC8BMRRG2MV8"
      }
    },
    {
      "cell_type": "code",
      "execution_count": 29,
      "metadata": {
        "colab": {
          "base_uri": "https://localhost:8080/"
        },
        "id": "AoWM3ZvIrRX5",
        "outputId": "a6e960e8-fabb-4b86-cef0-cd7b467619c7"
      },
      "outputs": [
        {
          "output_type": "stream",
          "name": "stdout",
          "text": [
            "+------------------+-------+-----------------+-------------------+\n",
            "|   x_i (ordenado) |   i/n |   |(i/n) - x_i| |   |x_i - (i-1)/n| |\n",
            "+==================+=======+=================+===================+\n",
            "|            0.007 |  0.04 |           0.033 |             0.007 |\n",
            "+------------------+-------+-----------------+-------------------+\n",
            "|            0.048 |  0.08 |           0.032 |             0.008 |\n",
            "+------------------+-------+-----------------+-------------------+\n",
            "|            0.086 |  0.12 |           0.034 |             0.006 |\n",
            "+------------------+-------+-----------------+-------------------+\n",
            "|            0.157 |  0.16 |           0.003 |             0.037 |\n",
            "+------------------+-------+-----------------+-------------------+\n",
            "|            0.166 |  0.2  |           0.034 |             0.006 |\n",
            "+------------------+-------+-----------------+-------------------+\n",
            "|            0.178 |  0.24 |           0.062 |             0.022 |\n",
            "+------------------+-------+-----------------+-------------------+\n",
            "|            0.199 |  0.28 |           0.081 |             0.041 |\n",
            "+------------------+-------+-----------------+-------------------+\n",
            "|            0.298 |  0.32 |           0.022 |             0.018 |\n",
            "+------------------+-------+-----------------+-------------------+\n",
            "|            0.362 |  0.36 |           0.002 |             0.042 |\n",
            "+------------------+-------+-----------------+-------------------+\n",
            "|            0.368 |  0.4  |           0.032 |             0.008 |\n",
            "+------------------+-------+-----------------+-------------------+\n",
            "|            0.401 |  0.44 |           0.039 |             0.001 |\n",
            "+------------------+-------+-----------------+-------------------+\n",
            "|            0.411 |  0.48 |           0.069 |             0.029 |\n",
            "+------------------+-------+-----------------+-------------------+\n",
            "|            0.437 |  0.52 |           0.083 |             0.043 |\n",
            "+------------------+-------+-----------------+-------------------+\n",
            "|            0.478 |  0.56 |           0.082 |             0.042 |\n",
            "+------------------+-------+-----------------+-------------------+\n",
            "|            0.533 |  0.6  |           0.067 |             0.027 |\n",
            "+------------------+-------+-----------------+-------------------+\n",
            "|            0.545 |  0.64 |           0.095 |             0.055 |\n",
            "+------------------+-------+-----------------+-------------------+\n",
            "|            0.551 |  0.68 |           0.129 |             0.089 |\n",
            "+------------------+-------+-----------------+-------------------+\n",
            "|            0.591 |  0.72 |           0.129 |             0.089 |\n",
            "+------------------+-------+-----------------+-------------------+\n",
            "|            0.594 |  0.76 |           0.166 |             0.126 |\n",
            "+------------------+-------+-----------------+-------------------+\n",
            "|            0.631 |  0.8  |           0.169 |             0.129 |\n",
            "+------------------+-------+-----------------+-------------------+\n",
            "|            0.772 |  0.84 |           0.068 |             0.028 |\n",
            "+------------------+-------+-----------------+-------------------+\n",
            "|            0.787 |  0.88 |           0.093 |             0.053 |\n",
            "+------------------+-------+-----------------+-------------------+\n",
            "|            0.926 |  0.92 |           0.006 |             0.046 |\n",
            "+------------------+-------+-----------------+-------------------+\n",
            "|            0.932 |  0.96 |           0.028 |             0.012 |\n",
            "+------------------+-------+-----------------+-------------------+\n",
            "|            0.951 |  1    |           0.049 |             0.009 |\n",
            "+------------------+-------+-----------------+-------------------+\n",
            "\n",
            "Valor de D_+: 0.16900000000000004\n",
            "Valor de D_-: 0.129\n",
            "D_max\n",
            "Valor crítico de Kolmogorov (α=0.05): 0.05280833025759575\n",
            "\n",
            "Resultado de la prueba: No se rechaza H0 \n"
          ]
        }
      ],
      "source": [
        "from tabulate import tabulate\n",
        "from scipy.stats import ksone\n",
        "\n",
        "# Muestra de datos\n",
        "muestra1 = [0.048, 0.591, 0.478, 0.166, 0.932, 0.926, 0.007, 0.551, 0.362,\n",
        "            0.533, 0.368, 0.437, 0.178, 0.411, 0.545, 0.787, 0.594, 0.086,\n",
        "            0.951, 0.772, 0.298, 0.199, 0.157, 0.401, 0.631]\n",
        "\n",
        "# 1. Ordenar la muestra\n",
        "muestra_sorted = sorted(muestra1)\n",
        "\n",
        "# 2. Calcular i/n\n",
        "i_n_values = [(i + 1) / len(muestra1) for i in range(len(muestra1))]\n",
        "\n",
        "# 3. Calcular D_+\n",
        "D_plus_values = [abs(i_n_values[i] - muestra_sorted[i]) for i in range(len(muestra1))]\n",
        "D_plus = max(D_plus_values)\n",
        "\n",
        "# 4. Calcular D_-\n",
        "D_minus_values = [abs(muestra_sorted[i] - (i / len(muestra1))) for i in range(len(muestra1))]\n",
        "D_minus = max(D_minus_values)\n",
        "\n",
        "# 5. Determinar el valor crítico de Kolmogorov\n",
        "n = len(muestra1)\n",
        "alfa = 0.05  # Nivel de significancia\n",
        "d_critico = ksone.ppf(1 - alfa / 2, n) / (n ** 0.5)\n",
        "\n",
        "# Crear tabla de resultados\n",
        "table = zip(muestra_sorted, i_n_values, D_plus_values, D_minus_values)\n",
        "headers = [\"x_i (ordenado)\", \"i/n\", \"|(i/n) - x_i|\", \"|x_i - (i-1)/n|\"]\n",
        "\n",
        "print(tabulate(table, headers=headers, tablefmt=\"grid\"))\n",
        "D_max = max(D_plus, D_minus)\n",
        "# Mostrar valores de D+, D- y D crítico\n",
        "print(\"\\nValor de D_+:\", D_plus)\n",
        "print(\"Valor de D_-:\", D_minus)\n",
        "print(\"D_max\")\n",
        "print(\"Valor crítico de Kolmogorov (α=0.05):\", d_critico)\n",
        "\n",
        "# Comparar con el valor crítico\n",
        "test_result = \"Se rechaza H0 (no es uniforme)\" if D_max < d_critico else \"No se rechaza H0 \"\n",
        "print(\"\\nResultado de la prueba:\", test_result)"
      ]
    },
    {
      "cell_type": "markdown",
      "source": [
        "Aqui primero damos la lista de datos y usamos **sorted(muestra1) para odernar de menor a mayor**"
      ],
      "metadata": {
        "id": "GdQBM0bD46tE"
      }
    },
    {
      "cell_type": "code",
      "source": [
        "from tabulate import tabulate\n",
        "from scipy.stats import ksone\n",
        "\n",
        "# Muestra de datos\n",
        "muestra1 = [0.048, 0.591, 0.478, 0.166, 0.932, 0.926, 0.007, 0.551, 0.362,\n",
        "            0.533, 0.368, 0.437, 0.178, 0.411, 0.545, 0.787, 0.594, 0.086,\n",
        "            0.951, 0.772, 0.298, 0.199, 0.157, 0.401, 0.631]\n",
        "\n",
        "# 1. Ordenar la muestra\n",
        "muestra_sorted = sorted(muestra1)"
      ],
      "metadata": {
        "id": "7awOLidq47VS"
      },
      "execution_count": null,
      "outputs": []
    },
    {
      "cell_type": "markdown",
      "source": [
        "Aqui calculamos i/n usando un for para ir iterando el valor de i"
      ],
      "metadata": {
        "id": "t6K-2jO85bhq"
      }
    },
    {
      "cell_type": "code",
      "source": [
        "\n",
        "# 2. Calcular i/n\n",
        "i_n_values = [(i + 1) / len(muestra1) for i in range(len(muestra1))]\n"
      ],
      "metadata": {
        "id": "MmRSArQO5aZV"
      },
      "execution_count": null,
      "outputs": []
    },
    {
      "cell_type": "markdown",
      "source": [
        "Calculamos D_+= (max|(i/numero de datos)-xi|)"
      ],
      "metadata": {
        "id": "7ei6CJxi5xIi"
      }
    },
    {
      "cell_type": "code",
      "source": [
        "# 3. Calcular D_+\n",
        "D_plus_values = [abs(i_n_values[i] - muestra_sorted[i]) for i in range(len(muestra1))]\n",
        "D_plus = max(D_plus_values)"
      ],
      "metadata": {
        "id": "J8mLPpyv5xqP"
      },
      "execution_count": null,
      "outputs": []
    },
    {
      "cell_type": "markdown",
      "source": [
        "Calculamos D_-="
      ],
      "metadata": {
        "id": "YOmTuHH56EoA"
      }
    },
    {
      "cell_type": "code",
      "source": [
        "# 4. Calcular D_-\n",
        "D_minus_values = [abs(muestra_sorted[i] - (i / len(muestra1))) for i in range(len(muestra1))]\n",
        "D_minus = max(D_minus_values)\n"
      ],
      "metadata": {
        "id": "-dVbmmrE6E66"
      },
      "execution_count": null,
      "outputs": []
    },
    {
      "cell_type": "markdown",
      "source": [
        "Determinamos el valor critico de Kolmogorov"
      ],
      "metadata": {
        "id": "-enR2EQN6YRE"
      }
    },
    {
      "cell_type": "code",
      "source": [
        "# 5. Determinar el valor crítico de Kolmogorov\n",
        "n = len(muestra1)\n",
        "alfa = 0.05  # Nivel de significancia\n",
        "d_critico = ksone.ppf(1 - alfa / 2, n) / (n ** 0.5)"
      ],
      "metadata": {
        "id": "qRodhsgP6Ylj"
      },
      "execution_count": null,
      "outputs": []
    },
    {
      "cell_type": "markdown",
      "source": [
        "Graficamos nuestros  valores obtenidos"
      ],
      "metadata": {
        "id": "d1K7I45p6jPt"
      }
    },
    {
      "cell_type": "code",
      "source": [
        "\n",
        "# Crear tabla de resultados\n",
        "table = zip(muestra_sorted, i_n_values, D_plus_values, D_minus_values)\n",
        "headers = [\"x_i (ordenado)\", \"i/n\", \"|(i/n) - x_i|\", \"|x_i - (i-1)/n|\"]\n",
        "\n",
        "print(tabulate(table, headers=headers, tablefmt=\"grid\"))\n",
        "D_max = max(D_plus, D_minus)\n",
        "# Mostrar valores de D+, D- y D crítico\n",
        "print(\"\\nValor de D_+:\", D_plus)\n",
        "print(\"Valor de D_-:\", D_minus)\n",
        "print(\"D_max\")\n",
        "print(\"Valor crítico de Kolmogorov (α=0.05):\", d_critico)\n"
      ],
      "metadata": {
        "id": "DgJ2a_Tb6i70"
      },
      "execution_count": null,
      "outputs": []
    },
    {
      "cell_type": "markdown",
      "source": [
        "Vemos si se rechaza h0 o se acepta"
      ],
      "metadata": {
        "id": "S3Zgcz6q6yB_"
      }
    },
    {
      "cell_type": "code",
      "source": [
        "# Comparar con el valor crítico\n",
        "test_result = \"Se rechaza H0 (no es uniforme)\" if D_max < d_critico else \"No se rechaza H0 \"\n",
        "print(\"\\nResultado de la prueba:\", test_result)"
      ],
      "metadata": {
        "id": "WyD_prl76yTi"
      },
      "execution_count": null,
      "outputs": []
    }
  ]
}