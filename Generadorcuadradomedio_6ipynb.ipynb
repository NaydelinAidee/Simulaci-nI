{
  "nbformat": 4,
  "nbformat_minor": 0,
  "metadata": {
    "colab": {
      "provenance": [],
      "authorship_tag": "ABX9TyNV3B+tmlknvWdgWPIJH0Sw",
      "include_colab_link": true
    },
    "kernelspec": {
      "name": "python3",
      "display_name": "Python 3"
    },
    "language_info": {
      "name": "python"
    }
  },
  "cells": [
    {
      "cell_type": "markdown",
      "metadata": {
        "id": "view-in-github",
        "colab_type": "text"
      },
      "source": [
        "<a href=\"https://colab.research.google.com/github/NaydelinAidee/Simulaci-nI/blob/main/Generadorcuadradomedio_6ipynb.ipynb\" target=\"_parent\"><img src=\"https://colab.research.google.com/assets/colab-badge.svg\" alt=\"Open In Colab\"/></a>"
      ]
    },
    {
      "cell_type": "markdown",
      "source": [
        "GENERADOR CUADRADO  MEDIO\n",
        "\n",
        "El método del cuadrado medio es un algoritmo clásico para generar números pseudoaleatorios. Fue propuesto por John von Neumann en 1949 y es uno de los primeros intentos de generación de números aleatorios mediante computación."
      ],
      "metadata": {
        "id": "90SoGVb3lQOh"
      }
    },
    {
      "cell_type": "markdown",
      "source": [
        "FUNCIONA DE LA SIGUIENTE MANERA:\n",
        "\n",
        "![image.png](data:image/png;base64,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)\n",
        "\n"
      ],
      "metadata": {
        "id": "pC9tVqTpleFW"
      }
    },
    {
      "cell_type": "markdown",
      "source": [
        "Ventajas del método:\n",
        "\n",
        "\n",
        "✔️ Fácil de implementar\n",
        "\n",
        "\n",
        "✔️ No requiere cálculos avanzados\n",
        "\n",
        "\n",
        "✔️ Puede ser útil en experimentos educativos sobre generación de números pseudoaleatorios\n",
        "\n"
      ],
      "metadata": {
        "id": "K_-AHh90l80N"
      }
    },
    {
      "cell_type": "markdown",
      "source": [
        "A continuacion te muestro un codigo donde se vizualiza la tabla de valores que nos arroja este generador"
      ],
      "metadata": {
        "id": "mR9EGBUsmDr2"
      }
    },
    {
      "cell_type": "code",
      "execution_count": 40,
      "metadata": {
        "colab": {
          "base_uri": "https://localhost:8080/"
        },
        "collapsed": true,
        "id": "tilvYoFAW6O_",
        "outputId": "8fbef189-5588-496c-914c-709d125d9e7d"
      },
      "outputs": [
        {
          "output_type": "stream",
          "name": "stdout",
          "text": [
            "Tabla de valores generados:\n",
            "+-------------+-------+-----------------+\n",
            "|   Iteración |   x_i |   x_{i+1}/10000 |\n",
            "+=============+=======+=================+\n",
            "|           1 |  4100 |            0.81 |\n",
            "+-------------+-------+-----------------+\n",
            "|           2 |  8100 |            0.61 |\n",
            "+-------------+-------+-----------------+\n",
            "|           3 |  6100 |            0.21 |\n",
            "+-------------+-------+-----------------+\n",
            "|           4 |  2100 |            0.41 |\n",
            "+-------------+-------+-----------------+\n",
            "|           5 |  4100 |            0.81 |\n",
            "+-------------+-------+-----------------+\n",
            "El número se repite en la iteración 5.\n"
          ]
        }
      ],
      "source": [
        "from tabulate import tabulate  # Para la tabla\n",
        "\n",
        "# Datos iniciales\n",
        "x0 = 4100  # Puedes cambiar esta semilla\n",
        "iteraciones = 10  # Número de iteraciones a generar (puedes cambiarlo)\n",
        "lista = []  # Lista que almacena los valores generados\n",
        "valores_generados = {}  # Para almacenar la iteración en la que se generó cada valor\n",
        "\n",
        "# Ciclo de vida\n",
        "ciclo_detectado = False\n",
        "ciclo_iteracion = None\n",
        "\n",
        "# Función para el generador del cuadrado medio\n",
        "def generador_cuadrado_medio(x):\n",
        "    cuadrado = str(x ** 2).zfill(8)  # Asegura que tenga al menos 8 dígitos\n",
        "    medio = cuadrado[len(cuadrado)//2 - 2 : len(cuadrado)//2 + 2]  # Extrae 4 dígitos centrales\n",
        "    return int(medio)\n",
        "\n",
        "# Genera los números y los guarda en una tabla\n",
        "for i in range(1, iteraciones + 1):\n",
        "    generadornuevo = generador_cuadrado_medio(x0)\n",
        "    lista.append([i, x0, generadornuevo / 10000])\n",
        "\n",
        "    # Verificamos si el número ya apareció antes\n",
        "    if generadornuevo in valores_generados:\n",
        "        ciclo_iteracion = i  # Se repite en esta iteración\n",
        "        ciclo_detectado = True\n",
        "        break  # Detenemos la ejecución en la primera repetición\n",
        "\n",
        "    valores_generados[generadornuevo] = i\n",
        "    x0 = generadornuevo  # Actualizamos el valor\n",
        "\n",
        "# Títulos de la tabla\n",
        "titulos = [\"Iteración\", \"x_i\", \"x_{i+1}/10000\"]\n",
        "\n",
        "# Visualizar la tabla\n",
        "print(\"Tabla de valores generados:\")\n",
        "print(tabulate(lista, headers=titulos, tablefmt=\"grid\"))\n",
        "\n",
        "# Mostrar información del ciclo, si existe\n",
        "if ciclo_detectado:\n",
        "    print(f\"El número se repite en la iteración {ciclo_iteracion}.\")\n",
        "else:\n",
        "    print(\"No se detectó repetición en las iteraciones.\")\n"
      ]
    },
    {
      "cell_type": "markdown",
      "source": [
        "Aqui damos los datos que se van a ocupar para el generador,este depende solo de la semilla"
      ],
      "metadata": {
        "id": "xb8AZRJhmWAR"
      }
    },
    {
      "cell_type": "code",
      "source": [
        "# Datos iniciales\n",
        "x0 = 4100  # Puedes cambiar esta semilla\n",
        "iteraciones = 10  # Número de iteraciones a generar (puedes cambiarlo)"
      ],
      "metadata": {
        "id": "ErizmIAKmhu_"
      },
      "execution_count": null,
      "outputs": []
    },
    {
      "cell_type": "markdown",
      "source": [
        "Aqui inicializamos las variables que vamos a ocupar"
      ],
      "metadata": {
        "id": "soyUOAvOmk56"
      }
    },
    {
      "cell_type": "code",
      "source": [
        "lista = []  # Lista que almacena los valores generados\n",
        "valores_generados = {}  # Para almacenar la iteración en la que se generó cada valor"
      ],
      "metadata": {
        "id": "Sv8hi110mvVz"
      },
      "execution_count": null,
      "outputs": []
    },
    {
      "cell_type": "markdown",
      "source": [
        "declaramos nuestras variables para el ciclo de vida"
      ],
      "metadata": {
        "id": "pZgSZhr3m1A6"
      }
    },
    {
      "cell_type": "code",
      "source": [
        "# Ciclo de vida\n",
        "ciclo_detectado = False\n",
        "ciclo_iteracion = None"
      ],
      "metadata": {
        "id": "D2F6Wk97m3Yq"
      },
      "execution_count": null,
      "outputs": []
    },
    {
      "cell_type": "markdown",
      "source": [
        "Aqui aplicamos nuestra formula dada para el generador"
      ],
      "metadata": {
        "id": "LILlnESxnCJV"
      }
    },
    {
      "cell_type": "code",
      "source": [
        "\n",
        "# Función para el generador del cuadrado medio\n",
        "def generador_cuadrado_medio(x):\n",
        "    cuadrado = str(x ** 2).zfill(8)  # Asegura que tenga al menos 8 dígitos\n",
        "    medio = cuadrado[len(cuadrado)//2 - 2 : len(cuadrado)//2 + 2]  # Extrae 4 dígitos centrales\n",
        "    return int(medio)\n"
      ],
      "metadata": {
        "id": "ydV8zWgknCb7"
      },
      "execution_count": null,
      "outputs": []
    },
    {
      "cell_type": "markdown",
      "source": [
        "se  van generando los numeros y los guarda en una tabla"
      ],
      "metadata": {
        "id": "dNWuDppOnXGi"
      }
    },
    {
      "cell_type": "code",
      "source": [
        "\n",
        "# Genera los números y los guarda en una tabla\n",
        "for i in range(1, iteraciones + 1):\n",
        "    generadornuevo = generador_cuadrado_medio(x0)\n",
        "    lista.append([i, x0, generadornuevo / 10000])\n"
      ],
      "metadata": {
        "id": "jc2qoSOVnXcu"
      },
      "execution_count": null,
      "outputs": []
    },
    {
      "cell_type": "markdown",
      "source": [
        "se hace un condicional para ver si se repite algun numero y asi vizualizar el ciclo de vida."
      ],
      "metadata": {
        "id": "BxIlbrj6nm7Z"
      }
    },
    {
      "cell_type": "code",
      "source": [
        "\n",
        "    # Verificamos si el número ya apareció antes\n",
        "    if generadornuevo in valores_generados:\n",
        "        ciclo_iteracion = i  # Se repite en esta iteración\n",
        "        ciclo_detectado = True\n",
        "        break  # Detenemos la ejecución en la primera repetición\n",
        "\n",
        "    valores_generados[generadornuevo] = i\n",
        "    x0 = generadornuevo  # Actualizamos el valor\n",
        "\n"
      ],
      "metadata": {
        "id": "JSvdFu_PnnN0"
      },
      "execution_count": null,
      "outputs": []
    },
    {
      "cell_type": "markdown",
      "source": [
        "Le damos formato a la tabla y la vizualizamos"
      ],
      "metadata": {
        "id": "NTOvg2k1n_Yt"
      }
    },
    {
      "cell_type": "code",
      "source": [
        "\n",
        "# Títulos de la tabla\n",
        "titulos = [\"Iteración\", \"x_i\", \"x_{i+1}/10000\"]\n",
        "\n",
        "# Visualizar la tabla\n",
        "print(\"Tabla de valores generados:\")\n",
        "print(tabulate(lista, headers=titulos, tablefmt=\"grid\"))\n"
      ],
      "metadata": {
        "id": "XnMhyQEKn_jm"
      },
      "execution_count": null,
      "outputs": []
    },
    {
      "cell_type": "markdown",
      "source": [
        "Vizualizamos la informacion del ciclo"
      ],
      "metadata": {
        "id": "GFJ1JQdIoM5j"
      }
    },
    {
      "cell_type": "code",
      "source": [
        "# Mostrar información del ciclo, si existe\n",
        "if ciclo_detectado:\n",
        "    print(f\"El número se repite en la iteración {ciclo_iteracion}.\")\n",
        "else:\n",
        "    print(\"No se detectó repetición en las iteraciones.\")\n"
      ],
      "metadata": {
        "id": "FjOi0LploNF0"
      },
      "execution_count": null,
      "outputs": []
    }
  ]
}