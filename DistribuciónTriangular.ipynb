{
  "nbformat": 4,
  "nbformat_minor": 0,
  "metadata": {
    "colab": {
      "provenance": [],
      "authorship_tag": "ABX9TyOu37/ul8mlV27zQ0wF4enS",
      "include_colab_link": true
    },
    "kernelspec": {
      "name": "python3",
      "display_name": "Python 3"
    },
    "language_info": {
      "name": "python"
    }
  },
  "cells": [
    {
      "cell_type": "markdown",
      "metadata": {
        "id": "view-in-github",
        "colab_type": "text"
      },
      "source": [
        "<a href=\"https://colab.research.google.com/github/NaydelinAidee/Simulaci-nI/blob/main/Distribuci%C3%B3nTriangular.ipynb\" target=\"_parent\"><img src=\"https://colab.research.google.com/assets/colab-badge.svg\" alt=\"Open In Colab\"/></a>"
      ]
    },
    {
      "cell_type": "markdown",
      "source": [
        "# METODO DE LA TRANSFORMADA INVERSA\n",
        "*NAYDELIN AIDEE CARCAMO HERNANDEZ*"
      ],
      "metadata": {
        "id": "K6ySPo40ZThg"
      }
    },
    {
      "cell_type": "markdown",
      "source": [
        "El método de la transformada inversa es un procedimiento de simulación que se utiliza para generar valores de una variable aleatoria continua, utilizando una distribución uniforme en el intervalo y la función de distribución acumulativa inversa (FDC) de la distribución objetivo."
      ],
      "metadata": {
        "id": "DhhbNruwZ9_e"
      }
    },
    {
      "cell_type": "markdown",
      "source": [
        "Los pasos para este metodo son:\n",
        "\n",
        "\n",
        "*   Dado $f(x)$ , calculamos:\n",
        "$$F(x)= \\int^{x}_{-\\infty} f(\\xi) d\\xi $$\n",
        "*   Suponer R $\\sim u(0,1) $ y resolver $F(x)=R$ para obtener $ X= F^{-1} (R)$\n",
        "\n",
        "Trabajaremos  con la funcion de la distribucion triangular:\n",
        "\n",
        "\n",
        "$f(x)= \\left\\{ \\begin{array}{lcc} \\frac{2}{(c-a)(b-a)}(x-a) & si & a \\leq x\n",
        "& \\leq b  \\\\ \\\\ \\frac{2}{(c-a)(b-c)}(x-c) & si & b < x < c \\\\ \\\\ \\\\\\end{array} \\right.$"
      ],
      "metadata": {
        "id": "shXbFPm8a079"
      }
    },
    {
      "cell_type": "markdown",
      "source": [
        "importamos las librerias necesarias."
      ],
      "metadata": {
        "id": "c2FNjfG5esgl"
      }
    },
    {
      "cell_type": "code",
      "source": [
        "import matplotlib.pyplot as plt\n",
        "import numpy as np\n",
        "import random\n",
        "import math"
      ],
      "metadata": {
        "id": "4AtoLkcX5eQI"
      },
      "execution_count": null,
      "outputs": []
    },
    {
      "cell_type": "markdown",
      "source": [
        "Asignamos valores para a,b,c.\n",
        "Donde a es el valor minimo,b el maximo y c e valor mas probable."
      ],
      "metadata": {
        "id": "BN2LFNaGfQnq"
      }
    },
    {
      "cell_type": "code",
      "source": [
        "a=1\n",
        "b=3\n",
        "c=5"
      ],
      "metadata": {
        "id": "CzfildqG5f5a"
      },
      "execution_count": null,
      "outputs": []
    },
    {
      "cell_type": "markdown",
      "source": [
        "1.-Inicializa una lista vacía para guardar los números generados.\n",
        "\n",
        "2.-En cada iteración (hasta n veces), genera un número aleatorio R entre 0 y 1.\n",
        "\n",
        "3.-Calcula un valor x según una fórmula matemática basada en la inversa de la función de distribución acumulada (inversa de la CDF) para una distribución triangular.\n",
        "\n",
        "4.-Evalúa si x está entre a y b:\n",
        "\n",
        "-Si lo está, lo añade a la lista.\n",
        "\n",
        "-Si no, calcula una segunda opción para x (correspondiente al otro lado del triángulo) y la añade a la lista."
      ],
      "metadata": {
        "id": "xymsT_pYgA1k"
      }
    },
    {
      "cell_type": "code",
      "source": [
        "def triangularF(n):\n",
        "  lista = []\n",
        "  for _ in range(n):\n",
        "    R = random.random()\n",
        "    x = math.sqrt(R*(c-a)*(b-a)) + a\n",
        "    if a <= x <= b:\n",
        "      lista.append(x)\n",
        "    else:\n",
        "      x = c - math.sqrt((1-R)*(c-a)*(c-b))\n",
        "      lista.append(x)\n",
        "\n",
        "  return lista"
      ],
      "metadata": {
        "id": "wzPfQI625gKT"
      },
      "execution_count": null,
      "outputs": []
    },
    {
      "cell_type": "markdown",
      "source": [
        "tabulamos"
      ],
      "metadata": {
        "id": "R5HNHqungHGY"
      }
    },
    {
      "cell_type": "code",
      "source": [
        "tabla = triangularF(10000)"
      ],
      "metadata": {
        "id": "PXB3f2YO5gWs"
      },
      "execution_count": null,
      "outputs": []
    },
    {
      "cell_type": "markdown",
      "source": [
        "Graficamos"
      ],
      "metadata": {
        "id": "tECVfZydgKyu"
      }
    },
    {
      "cell_type": "code",
      "source": [
        "plt.hist(tabla, bins=100)\n",
        "plt.show()"
      ],
      "metadata": {
        "colab": {
          "base_uri": "https://localhost:8080/",
          "height": 430
        },
        "id": "6EG1u-TB60z9",
        "outputId": "6c905f13-3092-4d9c-b7dc-96627086f3c4"
      },
      "execution_count": null,
      "outputs": [
        {
          "output_type": "display_data",
          "data": {
            "text/plain": [
              "<Figure size 640x480 with 1 Axes>"
            ],
            "image/png": "[encoded data removed]"
          },
          "metadata": {}
        }
      ]
    },
    {
      "cell_type": "markdown",
      "source": [
        "Calculamos la media."
      ],
      "metadata": {
        "id": "jl2gzJiDgQ1j"
      }
    },
    {
      "cell_type": "code",
      "source": [
        "#calculando la media\n",
        "media = np.mean(tabla)\n",
        "print(media)"
      ],
      "metadata": {
        "colab": {
          "base_uri": "https://localhost:8080/"
        },
        "id": "yPWbDBak9FHK",
        "outputId": "f7fa389d-4d23-4def-f99c-3bd153a7f067"
      },
      "execution_count": null,
      "outputs": [
        {
          "output_type": "stream",
          "name": "stdout",
          "text": [
            "2.9704372053871086\n"
          ]
        }
      ]
    },
    {
      "cell_type": "markdown",
      "source": [
        "Caculamos la varianza."
      ],
      "metadata": {
        "id": "qGwlJUyxgTxI"
      }
    },
    {
      "cell_type": "code",
      "source": [
        "#calculando la varianza\n",
        "varianza = np.var(tabla)\n",
        "print(varianza)"
      ],
      "metadata": {
        "colab": {
          "base_uri": "https://localhost:8080/"
        },
        "id": "23lcaEFy9mJt",
        "outputId": "f3535161-ed71-42c2-a365-5c0d6a837e27"
      },
      "execution_count": null,
      "outputs": [
        {
          "output_type": "stream",
          "name": "stdout",
          "text": [
            "0.6656283988671571\n"
          ]
        }
      ]
    },
    {
      "cell_type": "markdown",
      "source": [
        "graficamos"
      ],
      "metadata": {
        "id": "Va3AwC9hgZu5"
      }
    },
    {
      "cell_type": "code",
      "source": [
        "#garfica\n",
        "ordenado=np.sort(tabla)\n",
        "plt.plot(ordenado)\n",
        "plt.show()"
      ],
      "metadata": {
        "colab": {
          "base_uri": "https://localhost:8080/",
          "height": 430
        },
        "id": "-a1MdVny-U8D",
        "outputId": "8a6b55e8-54b6-49b6-f122-be4f89b02e7d"
      },
      "execution_count": null,
      "outputs": [
        {
          "output_type": "display_data",
          "data": {
            "text/plain": [
              "<Figure size 640x480 with 1 Axes>"
            ],
            "image/png": "[encoded data removed]"
          },
          "metadata": {}
        }
      ]
    }
  ]
}