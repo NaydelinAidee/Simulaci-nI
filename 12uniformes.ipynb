{
  "nbformat": 4,
  "nbformat_minor": 0,
  "metadata": {
    "colab": {
      "provenance": [],
      "authorship_tag": "ABX9TyOL7QxVawnjUalpAZBVNZ/f",
      "include_colab_link": true
    },
    "kernelspec": {
      "name": "python3",
      "display_name": "Python 3"
    },
    "language_info": {
      "name": "python"
    }
  },
  "cells": [
    {
      "cell_type": "markdown",
      "metadata": {
        "id": "view-in-github",
        "colab_type": "text"
      },
      "source": [
        "<a href=\"https://colab.research.google.com/github/NaydelinAidee/Simulaci-nI/blob/main/12uniformes.ipynb\" target=\"_parent\"><img src=\"https://colab.research.google.com/assets/colab-badge.svg\" alt=\"Open In Colab\"/></a>"
      ]
    },
    {
      "cell_type": "markdown",
      "source": [
        "# METODO DE LAS 12 UNIFORMES\n",
        "NAYDELIN AIDEE CARCAMO HERNANDEZ"
      ],
      "metadata": {
        "id": "DbgBb7ZgF2Km"
      }
    },
    {
      "cell_type": "markdown",
      "source": [
        "El \"método de las 12 uniformes\" se usa para generar variables aleatorias normales (o gaussianas) a partir de la suma de variables aleatorias uniformes. Lo que se hace es que  suman 12 variables aleatorias uniformes independientes entre sí, y la suma resultante se aproxima a una distribución normal."
      ],
      "metadata": {
        "id": "25paDf1yGSLx"
      }
    },
    {
      "cell_type": "markdown",
      "source": [
        "1. Distribución uniforme:\n",
        "Una variable aleatoria uniforme toma cualquier valor dentro de un rango con la misma probabilidad, como un dado de 6 caras.\n",
        "\n",
        "2. Suma de variables uniformes:\n",
        "Al sumar varias variables uniformes, la distribución de la suma se aproxima cada vez más a una distribución normal a medida que aumenta el número de variables sumadas.\n",
        "\n",
        "3. Teorema del límite central:\n",
        "Este teorema explica matemáticamente por qué la suma de variables aleatorias independientes tiende a una distribución normal, independientemente de la distribución original de las variables.\n",
        "\n",
        "4. 12 variables uniformes:\n",
        "La suma de 12 variables aleatorias uniformes produce una aproximación relativamente buena a una distribución normal, lo que justifica el uso del \"método de las 12 uniformes\".\n",
        "\n",
        "5. Aplicación:\n",
        "Este método se utiliza en simulaciones y en la generación de números aleatorios en diversos campos, como estadística, finanzas, física y ciencia de datos."
      ],
      "metadata": {
        "id": "hLdVGJheGgzP"
      }
    },
    {
      "cell_type": "markdown",
      "source": [
        "A continuacion elaboramos un codigo en python para automatizar el metodo."
      ],
      "metadata": {
        "id": "kD0i-h0QG0Cy"
      }
    },
    {
      "cell_type": "markdown",
      "source": [
        "primero exportamos nuestras librerias"
      ],
      "metadata": {
        "id": "b0E4RU23G84D"
      }
    },
    {
      "cell_type": "code",
      "source": [
        "import random\n",
        "import matplotlib.pyplot as plt\n",
        "import numpy as np"
      ],
      "metadata": {
        "id": "wf0o7aL5HAAs"
      },
      "execution_count": null,
      "outputs": []
    },
    {
      "cell_type": "markdown",
      "source": [
        "Ahora establecemos los parametros de la distribucion"
      ],
      "metadata": {
        "id": "Qqj5eGQeHCQB"
      }
    },
    {
      "cell_type": "code",
      "source": [
        "# Parámetros deseados de la distribución\n",
        "mu = 10        # Media teórica\n",
        "sigma = 2      # Desviación estándar teórica"
      ],
      "metadata": {
        "id": "VvTTyPh2HHa7"
      },
      "execution_count": null,
      "outputs": []
    },
    {
      "cell_type": "markdown",
      "source": [
        "Ahora definimos nuestra funcion para generar muestras normales con este metodo que se encarga de generar n valores distribuidos y retorna la lista de valores"
      ],
      "metadata": {
        "id": "vvb0GyTxHJ2A"
      }
    },
    {
      "cell_type": "code",
      "source": [
        "def Especial(n):\n",
        "\n",
        "    lista = []\n",
        "    for _ in range(n):\n",
        "        suma_uniformes = sum(random.random() for _ in range(12))\n",
        "        z = suma_uniformes - 6  # Aproximadamente N(0,1)\n",
        "        x = mu + sigma * z      # Transformación a N(mu, sigma)\n",
        "        lista.append(x)\n",
        "    return lista"
      ],
      "metadata": {
        "id": "ujYJO6T3HcS4"
      },
      "execution_count": null,
      "outputs": []
    },
    {
      "cell_type": "markdown",
      "source": [
        "Ahora decimos cual es el numero de mestras a generar"
      ],
      "metadata": {
        "id": "GRe2PeXNHqkh"
      }
    },
    {
      "cell_type": "code",
      "source": [
        "# Número de muestras a generar\n",
        "n_muestras = 10000"
      ],
      "metadata": {
        "id": "vum-2ZGxHvMy"
      },
      "execution_count": null,
      "outputs": []
    },
    {
      "cell_type": "markdown",
      "source": [
        "Por ultimo visualizamos nuestros datos y graficamos"
      ],
      "metadata": {
        "id": "ouO4Y72zHxI1"
      }
    },
    {
      "cell_type": "code",
      "source": [
        "#Generar datos\n",
        "datos = Especial(n_muestras)\n",
        "# Calcular estadísticas\n",
        "media_empirica = np.mean(datos)\n",
        "desviacion_empirica = np.std(datos)\n",
        "# Mostrar resultados\n",
        "print(f\"Media : {media_empirica:.4f}\")\n",
        "print(f\"Desviación : {desviacion_empirica:.4f}\")\n",
        "# Mostrar histograma\n",
        "plt.figure(figsize=(10,6))\n",
        "plt.hist(datos, bins=50, density=True, color='lightblue', edgecolor='black', alpha=0.7)\n",
        "plt.title('Histograma de muestras generadas (Método de las 12 uniformes)')\n",
        "plt.xlabel('Valor')\n",
        "plt.ylabel('Densidad')\n",
        "plt.grid(True)\n",
        "plt.legend()\n",
        "plt.show()\n",
        "\n"
      ],
      "metadata": {
        "id": "tcJ9fYjrH2hF"
      },
      "execution_count": null,
      "outputs": []
    },
    {
      "cell_type": "markdown",
      "source": [
        "Ahora visualizamos el codigo completo"
      ],
      "metadata": {
        "id": "_TLp3-TjH-5R"
      }
    },
    {
      "cell_type": "code",
      "execution_count": null,
      "metadata": {
        "colab": {
          "base_uri": "https://localhost:8080/",
          "height": 634
        },
        "id": "FUs8EabVEtqI",
        "outputId": "61db7812-cc80-423e-c782-bc078839886c"
      },
      "outputs": [
        {
          "output_type": "stream",
          "name": "stdout",
          "text": [
            "Media : 10.0350\n",
            "Desviación : 1.9933\n"
          ]
        },
        {
          "output_type": "stream",
          "name": "stderr",
          "text": [
            "<ipython-input-9-b5034543a139>:41: UserWarning: No artists with labels found to put in legend.  Note that artists whose label start with an underscore are ignored when legend() is called with no argument.\n",
            "  plt.legend()\n"
          ]
        },
        {
          "output_type": "display_data",
          "data": {
            "text/plain": [
              "<Figure size 1000x600 with 1 Axes>"
            ],
            "image/png": "[encoded data removed]"
          },
          "metadata": {}
        }
      ],
      "source": [
        "import random\n",
        "import matplotlib.pyplot as plt\n",
        "import numpy as np\n",
        "\n",
        "# Parámetros deseados de la distribución\n",
        "mu = 10        # Media teórica\n",
        "sigma = 2      # Desviación estándar teórica\n",
        "\n",
        "# Función para generar muestras normales con el método de las 12 uniformes\n",
        "def Especial(n):\n",
        "\n",
        "    lista = []\n",
        "    for _ in range(n):\n",
        "        suma_uniformes = sum(random.random() for _ in range(12))\n",
        "        z = suma_uniformes - 6  # Aproximadamente N(0,1)\n",
        "        x = mu + sigma * z      # Transformación a N(mu, sigma)\n",
        "        lista.append(x)\n",
        "    return lista\n",
        "\n",
        "# Número de muestras a generar\n",
        "n_muestras = 10000\n",
        "\n",
        "# Generar datos\n",
        "datos = Especial(n_muestras)\n",
        "# Calcular estadísticas\n",
        "media_empirica = np.mean(datos)\n",
        "desviacion_empirica = np.std(datos)\n",
        "# Mostrar resultados\n",
        "print(f\"Media : {media_empirica:.4f}\")\n",
        "print(f\"Desviación : {desviacion_empirica:.4f}\")\n",
        "# Mostrar histograma\n",
        "plt.figure(figsize=(10,6))\n",
        "plt.hist(datos, bins=50, density=True, color='lightblue', edgecolor='black', alpha=0.7)\n",
        "plt.title('Histograma de muestras generadas (Método de las 12 uniformes)')\n",
        "plt.xlabel('Valor')\n",
        "plt.ylabel('Densidad')\n",
        "plt.grid(True)\n",
        "plt.legend()\n",
        "plt.show()\n",
        "\n"
      ]
    },
    {
      "cell_type": "markdown",
      "source": [],
      "metadata": {
        "id": "Ey1wxz-gFy9w"
      }
    }
  ]
}