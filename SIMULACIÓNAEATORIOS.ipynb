{
  "nbformat": 4,
  "nbformat_minor": 0,
  "metadata": {
    "colab": {
      "provenance": [],
      "authorship_tag": "ABX9TyOdU8iQ4dIyiy6VtkDnFmKs",
      "include_colab_link": true
    },
    "kernelspec": {
      "name": "python3",
      "display_name": "Python 3"
    },
    "language_info": {
      "name": "python"
    }
  },
  "cells": [
    {
      "cell_type": "markdown",
      "metadata": {
        "id": "view-in-github",
        "colab_type": "text"
      },
      "source": [
        "<a href=\"https://colab.research.google.com/github/NaydelinAidee/Simulaci-nI/blob/main/SIMULACI%C3%93NAEATORIOS.ipynb\" target=\"_parent\"><img src=\"https://colab.research.google.com/assets/colab-badge.svg\" alt=\"Open In Colab\"/></a>"
      ]
    },
    {
      "cell_type": "code",
      "execution_count": 13,
      "metadata": {
        "colab": {
          "base_uri": "https://localhost:8080/"
        },
        "id": "mMroH45I_fLV",
        "outputId": "9a319ddf-268a-472d-b5f5-a89737419eee"
      },
      "outputs": [
        {
          "output_type": "stream",
          "name": "stdout",
          "text": [
            "  i    x_i    x_{i+1}\n",
            "---  -----  ---------\n",
            "  0      5       0.94\n",
            "  1     94       0.03\n",
            "  2      3       0.32\n",
            "  3     32       0.81\n",
            "  4     81       0.5\n",
            "  5     50       0.39\n",
            "  6     39       0.48\n",
            "  7     48       0.77\n",
            "  8     77       0.26\n",
            "  9     26       0.95\n",
            " 10     95       0.84\n",
            " 11     84       0.93\n",
            " 12     93       0.22\n",
            " 13     22       0.71\n",
            " 14     71       0.4\n",
            " 15     40       0.29\n",
            " 16     29       0.38\n",
            " 17     38       0.67\n",
            " 18     67       0.16\n",
            " 19     16       0.85\n",
            " 20     85       0.74\n",
            " 21     74       0.83\n",
            " 22     83       0.12\n",
            " 23     12       0.61\n",
            " 24     61       0.3\n",
            " 25     30       0.19\n",
            " 26     19       0.28\n",
            " 27     28       0.57\n",
            " 28     57       0.06\n",
            " 29      6       0.75\n",
            " 30     75       0.64\n",
            " 31     64       0.73\n",
            " 32     73       0.02\n",
            " 33      2       0.51\n",
            " 34     51       0.2\n",
            " 35     20       0.09\n",
            " 36      9       0.18\n",
            " 37     18       0.47\n",
            " 38     47       0.96\n",
            " 39     96       0.65\n",
            " 40     65       0.54\n",
            " 41     54       0.63\n",
            " 42     63       0.92\n",
            " 43     92       0.41\n",
            " 44     41       0.1\n",
            " 45     10       0.99\n",
            " 46     99       0.08\n",
            " 47      8       0.37\n",
            " 48     37       0.86\n",
            " 49     86       0.55\n"
          ]
        }
      ],
      "source": [
        "import tabulate\n",
        "a=81\n",
        "c=89\n",
        "m=10**2\n",
        "X0=5\n",
        "def generador (a,c,m,X0) :\n",
        "    x=(a*X0+c)%m\n",
        "    return x\n",
        "muestra= []\n",
        "for i in range(50):\n",
        "    nuevo=generador(a,c,m,X0)\n",
        "    muestra.append([i, X0, nuevo/m] )\n",
        "    X0=nuevo\n",
        "encabezados= [\"i\",\"x_i\",\"x_{i+1}\"]\n",
        "print (tabulate.tabulate(muestra, headers=encabezados))"
      ]
    }
  ]
}